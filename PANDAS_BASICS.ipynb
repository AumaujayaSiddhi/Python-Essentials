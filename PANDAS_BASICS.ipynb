{
  "nbformat": 4,
  "nbformat_minor": 0,
  "metadata": {
    "colab": {
      "provenance": []
    },
    "kernelspec": {
      "name": "python3",
      "display_name": "Python 3"
    },
    "language_info": {
      "name": "python"
    }
  },
  "cells": [
    {
      "cell_type": "markdown",
      "source": [
        "Pandas is a python package which is build on top of numpy package. It has two objects Series and Dataframe. For more info about Pandas go to \"https://www.geeksforgeeks.org/introduction-to-pandas-in-python/?ref=lbp\""
      ],
      "metadata": {
        "id": "doHag4xKlLXi"
      }
    },
    {
      "cell_type": "markdown",
      "source": [
        "## PANDAS SERIES\n",
        "  Pandas series is a one dimensional labelled array capable of holding data of any type like integer, string, float etc...\n",
        "\n",
        "  Refer: https://www.geeksforgeeks.org/python-pandas-series/?ref=lbp"
      ],
      "metadata": {
        "id": "rUaMmCBTnnBq"
      }
    },
    {
      "cell_type": "code",
      "execution_count": 1,
      "metadata": {
        "id": "6ZfpNGhVwZ5U"
      },
      "outputs": [],
      "source": [
        "import numpy as np\n",
        "import pandas as pd"
      ]
    },
    {
      "cell_type": "code",
      "source": [
        "# creating a series from list\n",
        "list1 = ['a1', 'a2', 'a3', 'a4']\n",
        "\n",
        "series1 = pd.Series(list1)\n",
        "print(\"Series with default indexes:\\n{one}\".format(one=series1))\n",
        "print(\"Indexes of the series are: \",series1.index)"
      ],
      "metadata": {
        "id": "nW1XVDdLwgoq",
        "colab": {
          "base_uri": "https://localhost:8080/"
        },
        "outputId": "f5858a8d-c99a-402e-f5f2-12d50e0a1e58"
      },
      "execution_count": 2,
      "outputs": [
        {
          "output_type": "stream",
          "name": "stdout",
          "text": [
            "Series with default indexes:\n",
            "0    a1\n",
            "1    a2\n",
            "2    a3\n",
            "3    a4\n",
            "dtype: object\n",
            "Indexes of the series are:  RangeIndex(start=0, stop=4, step=1)\n"
          ]
        }
      ]
    },
    {
      "cell_type": "markdown",
      "source": [
        "In the above result 0,1,2,3 are indexes. These indexes can be anything but they should be hashable. Like list cannot be an index."
      ],
      "metadata": {
        "id": "QnbR_TiDocAi"
      }
    },
    {
      "cell_type": "code",
      "source": [
        "# creating a series with labelled indexes\n",
        "series2 = pd.Series(list1, index=['one', 'two', 'three', 'four'], dtype='S10') # dttype = 'S10' indicates that series can hold a value which can have at max of 10 bytes\n",
        "print(\"Series with labelled indexes:\\n{one}\".format(one=series2))\n",
        "print(\"Indexes of the series are: \",series2.index)"
      ],
      "metadata": {
        "colab": {
          "base_uri": "https://localhost:8080/"
        },
        "id": "DrcAhjePoR0A",
        "outputId": "12312f7d-1a55-4e6e-a676-f887b6f3b902"
      },
      "execution_count": 3,
      "outputs": [
        {
          "output_type": "stream",
          "name": "stdout",
          "text": [
            "Series with labelled indexes:\n",
            "one      b'a1'\n",
            "two      b'a2'\n",
            "three    b'a3'\n",
            "four     b'a4'\n",
            "dtype: bytes80\n",
            "Indexes of the series are:  Index(['one', 'two', 'three', 'four'], dtype='object')\n"
          ]
        }
      ]
    },
    {
      "cell_type": "code",
      "source": [
        "# printing element at position\n",
        "print(\"Element with label/index 1 in series 1: \", series1[1])\n",
        "print(\"Element with label/index 'three' in series 3: \", series2['three'])\n",
        "print(\"Accessing element using iloc from series2: \", series2.iloc[0])\n",
        "print(\"Accessing element using loc from series2: \", series2.loc['two'])\n",
        "print(\"Slicing operation can also be applied both on labelled and integer indexed series using iloc:\\n{one}\".format(one=series2.iloc[0::2]))\n",
        "print(\"On integer indexed series slicing operation can be applied using loc as well:\\n{one}\".format(one=series1.loc[1::2]))"
      ],
      "metadata": {
        "colab": {
          "base_uri": "https://localhost:8080/"
        },
        "id": "oHLsF2M_pMEW",
        "outputId": "31528882-f153-469b-a0ea-1c9b207b84eb"
      },
      "execution_count": 4,
      "outputs": [
        {
          "output_type": "stream",
          "name": "stdout",
          "text": [
            "Element with label/index 1 in series 1:  a2\n",
            "Element with label/index 'three' in series 3:  b'a3'\n",
            "Accessing element using iloc from series2:  b'a1'\n",
            "Accessing element using loc from series2:  b'a2'\n",
            "Slicing operation can also be applied both on labelled and integer indexed series using iloc:\n",
            "one      b'a1'\n",
            "three    b'a3'\n",
            "dtype: bytes80\n",
            "On integer indexed series slicing operation can be applied using loc as well:\n",
            "1    a2\n",
            "3    a4\n",
            "dtype: object\n"
          ]
        }
      ]
    },
    {
      "cell_type": "markdown",
      "source": [
        "There are many functions in pandas object with which you can combine two series. like add(), sub(), ..... etc. Refer \"https://www.geeksforgeeks.org/python-pandas-series/?ref=lbp"
      ],
      "metadata": {
        "id": "Q-_cWLMeupGs"
      }
    },
    {
      "cell_type": "code",
      "source": [
        "# Combining two series using add() function\n",
        "seriesx = pd.Series(np.arange(0,10,2), index=np.random.choice(a=['a','e','i','o','u',1,2,3,4,5], size=5, replace=False))\n",
        "seriesy = pd.Series(np.linspace(12, 12.7, num=5), index=np.random.choice(a=['a','e','i','o','u',1,2,3,4,5], size=5, replace=False))\n",
        "print(\"Seriesx\\n\",seriesx,\"\\n\\nSeriesy\\n\", seriesy)\n",
        "seriescombinedusingadd = seriesx.add(seriesy, fill_value=0)\n",
        "print(\"\\ncombined seriesx and seriesy using add\\n\",seriescombinedusingadd)\n",
        "seriescombinedusingsub = seriesx.sub(seriesy, fill_value=0)\n",
        "print(\"\\ncombined seriesx and seriesy using sub\\n\",seriescombinedusingsub)"
      ],
      "metadata": {
        "colab": {
          "base_uri": "https://localhost:8080/"
        },
        "id": "lWIQqS7CsMKu",
        "outputId": "51b6009b-c548-478c-f778-58d4d29ac463"
      },
      "execution_count": 5,
      "outputs": [
        {
          "output_type": "stream",
          "name": "stdout",
          "text": [
            "Seriesx\n",
            " 4    0\n",
            "o    2\n",
            "5    4\n",
            "2    6\n",
            "i    8\n",
            "dtype: int64 \n",
            "\n",
            "Seriesy\n",
            " o    12.000\n",
            "a    12.175\n",
            "3    12.350\n",
            "5    12.525\n",
            "1    12.700\n",
            "dtype: float64\n",
            "\n",
            "combined seriesx and seriesy using add\n",
            " 1    12.700\n",
            "2     6.000\n",
            "3    12.350\n",
            "4     0.000\n",
            "5    16.525\n",
            "a    12.175\n",
            "i     8.000\n",
            "o    14.000\n",
            "dtype: float64\n",
            "\n",
            "combined seriesx and seriesy using sub\n",
            " 1   -12.700\n",
            "2     6.000\n",
            "3   -12.350\n",
            "4     0.000\n",
            "5    -8.525\n",
            "a   -12.175\n",
            "i     8.000\n",
            "o   -10.000\n",
            "dtype: float64\n"
          ]
        }
      ]
    },
    {
      "cell_type": "markdown",
      "source": [
        "For Conversion operation on Series go to Conversion operation on series section on \"https://www.geeksforgeeks.org/python-pandas-series/?ref=lbp\"."
      ],
      "metadata": {
        "id": "OQmDk0ipys2c"
      }
    },
    {
      "cell_type": "markdown",
      "source": [
        "## PANDAS DATAFRAME"
      ],
      "metadata": {
        "id": "hG_KFUeLzGFy"
      }
    },
    {
      "cell_type": "markdown",
      "source": [
        "In the real world, a Pandas DataFrame will be created by loading the datasets from existing storage, storage can be SQL Database, CSV file, and Excel file. Pandas DataFrame can be created from the lists, dictionary, and from a list of dictionary etc. For more info go to \"https://www.geeksforgeeks.org/creating-a-pandas-dataframe/?ref=lbp\"."
      ],
      "metadata": {
        "id": "OTiEYr-O0FzE"
      }
    },
    {
      "cell_type": "code",
      "source": [
        "# Empty DataFrame\n",
        "df1 = pd.DataFrame()\n",
        "print(df1)"
      ],
      "metadata": {
        "colab": {
          "base_uri": "https://localhost:8080/"
        },
        "id": "Uv7bTZtCug-Q",
        "outputId": "eb6e2ef2-5747-4925-802a-e85ef4a67edf"
      },
      "execution_count": 6,
      "outputs": [
        {
          "output_type": "stream",
          "name": "stdout",
          "text": [
            "Empty DataFrame\n",
            "Columns: []\n",
            "Index: []\n"
          ]
        }
      ]
    },
    {
      "cell_type": "code",
      "source": [
        "# Dataframe from list object\n",
        "df2 = pd.DataFrame(list1, columns=['A'])\n",
        "print(\"DataFrame created from list1:\\n{one}\".format(one=df2))"
      ],
      "metadata": {
        "colab": {
          "base_uri": "https://localhost:8080/"
        },
        "id": "5PXYnTog0ggs",
        "outputId": "546381b8-52ca-49ba-c4ff-b78a32edc9f2"
      },
      "execution_count": 7,
      "outputs": [
        {
          "output_type": "stream",
          "name": "stdout",
          "text": [
            "DataFrame created from list1:\n",
            "    A\n",
            "0  a1\n",
            "1  a2\n",
            "2  a3\n",
            "3  a4\n"
          ]
        }
      ]
    },
    {
      "cell_type": "code",
      "source": [
        "# DataFrame from Series object\n",
        "df3 = pd.DataFrame(seriescombinedusingadd, columns=['ADD'])\n",
        "print(\"DataFrame created from series object:\\n{one}\".format(one=df3))"
      ],
      "metadata": {
        "colab": {
          "base_uri": "https://localhost:8080/"
        },
        "id": "zY4I5gVu0vh5",
        "outputId": "4b1b687f-31c1-46b7-f9de-b52ff9b1dea0"
      },
      "execution_count": 8,
      "outputs": [
        {
          "output_type": "stream",
          "name": "stdout",
          "text": [
            "DataFrame created from series object:\n",
            "      ADD\n",
            "1  12.700\n",
            "2   6.000\n",
            "3  12.350\n",
            "4   0.000\n",
            "5  16.525\n",
            "a  12.175\n",
            "i   8.000\n",
            "o  14.000\n"
          ]
        }
      ]
    },
    {
      "cell_type": "code",
      "source": [
        "# Adding a new column to the existing DataFrame object\n",
        "df3['SUB'] = seriescombinedusingsub\n",
        "print(\"Adding a new column to the existing DataFrame object:\\n{one}\".format(one=df3))"
      ],
      "metadata": {
        "colab": {
          "base_uri": "https://localhost:8080/"
        },
        "id": "-3cnGlYj1c8q",
        "outputId": "33d5cfcf-ee0e-4eba-d07c-74603bce4ada"
      },
      "execution_count": 9,
      "outputs": [
        {
          "output_type": "stream",
          "name": "stdout",
          "text": [
            "Adding a new column to the existing DataFrame object:\n",
            "      ADD     SUB\n",
            "1  12.700 -12.700\n",
            "2   6.000   6.000\n",
            "3  12.350 -12.350\n",
            "4   0.000   0.000\n",
            "5  16.525  -8.525\n",
            "a  12.175 -12.175\n",
            "i   8.000   8.000\n",
            "o  14.000 -10.000\n"
          ]
        }
      ]
    },
    {
      "cell_type": "code",
      "source": [
        "# Creating a DataFrame from dictionary\n",
        "dict1 = {'one':1, 'two':2, 'three':3, 'four':4, 'default':0}\n",
        "df4 = pd.DataFrame(dict1.values(), index=dict1.keys())\n",
        "print(\"DataFrame created from dictionary object:\\n{one}\".format(one=df4))"
      ],
      "metadata": {
        "colab": {
          "base_uri": "https://localhost:8080/"
        },
        "id": "jWwePvYj14P7",
        "outputId": "88d41613-3468-446a-d28f-3249a1210afc"
      },
      "execution_count": 10,
      "outputs": [
        {
          "output_type": "stream",
          "name": "stdout",
          "text": [
            "DataFrame created from dictionary object:\n",
            "         0\n",
            "one      1\n",
            "two      2\n",
            "three    3\n",
            "four     4\n",
            "default  0\n"
          ]
        }
      ]
    },
    {
      "cell_type": "code",
      "source": [
        "# Creating a DataFrame from dictionary\n",
        "dict2 = {'one':[1, 1.0, 'First', 'Top'], 'two':[2, 2.0, 'second', 'secondFromTop'], 'three':[3, 3.0, 'third', 'thirdFromTop']}\n",
        "df5 = pd.DataFrame(dict2)\n",
        "print(\"DataFrame created from dictionary object:\\n{one}\".format(one=df5))"
      ],
      "metadata": {
        "colab": {
          "base_uri": "https://localhost:8080/"
        },
        "id": "S3Ep4yf03AZC",
        "outputId": "a82b0411-6473-4784-f468-bb22a4086c7b"
      },
      "execution_count": 11,
      "outputs": [
        {
          "output_type": "stream",
          "name": "stdout",
          "text": [
            "DataFrame created from dictionary object:\n",
            "     one            two         three\n",
            "0      1              2             3\n",
            "1    1.0            2.0           3.0\n",
            "2  First         second         third\n",
            "3    Top  secondFromTop  thirdFromTop\n"
          ]
        }
      ]
    },
    {
      "cell_type": "code",
      "source": [
        "# Creating a series from DataFrame object with conversion demo\n",
        "seriesfromdf = df5['one'].astype('S10')\n",
        "print(seriesfromdf)\n",
        "print()\n",
        "print(df5['one'])"
      ],
      "metadata": {
        "colab": {
          "base_uri": "https://localhost:8080/"
        },
        "id": "oVa0eIRH4EVP",
        "outputId": "d2864495-2735-452a-82da-cd387f398b3a"
      },
      "execution_count": 12,
      "outputs": [
        {
          "output_type": "stream",
          "name": "stdout",
          "text": [
            "0        b'1'\n",
            "1      b'1.0'\n",
            "2    b'First'\n",
            "3      b'Top'\n",
            "Name: one, dtype: bytes80\n",
            "\n",
            "0        1\n",
            "1      1.0\n",
            "2    First\n",
            "3      Top\n",
            "Name: one, dtype: object\n"
          ]
        }
      ]
    },
    {
      "cell_type": "markdown",
      "source": [
        "These are some of the basics of pandas library. Visit any online platform or anyother source whenever is required. I referred geeks for geeks \"https://www.geeksforgeeks.org/pandas-tutorial/?ref=lbp\"."
      ],
      "metadata": {
        "id": "jjEnYtHB6MVK"
      }
    },
    {
      "cell_type": "code",
      "source": [],
      "metadata": {
        "id": "BA2WZkD942dP"
      },
      "execution_count": null,
      "outputs": []
    }
  ]
}
