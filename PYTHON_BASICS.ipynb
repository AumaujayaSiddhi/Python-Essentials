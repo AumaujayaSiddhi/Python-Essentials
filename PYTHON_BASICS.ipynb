{
  "nbformat": 4,
  "nbformat_minor": 0,
  "metadata": {
    "colab": {
      "provenance": []
    },
    "kernelspec": {
      "name": "python3",
      "display_name": "Python 3"
    },
    "language_info": {
      "name": "python"
    }
  },
  "cells": [
    {
      "cell_type": "markdown",
      "source": [
        "For python introduction like its features and installing on your machine and much more go to https://www.geeksforgeeks.org/introduction-to-python/?ref=lbp"
      ],
      "metadata": {
        "id": "THynltG_KVP9"
      }
    },
    {
      "cell_type": "markdown",
      "source": [
        "# Basic python program \"Hello world!\""
      ],
      "metadata": {
        "id": "Z1trY0tYKbmb"
      }
    },
    {
      "cell_type": "code",
      "source": [
        "print(\"Hello World!\")"
      ],
      "metadata": {
        "colab": {
          "base_uri": "https://localhost:8080/"
        },
        "id": "omhSG8q1_za0",
        "outputId": "63afd4f1-e77e-4a0a-d4ce-f9287d9a02df"
      },
      "execution_count": 1,
      "outputs": [
        {
          "output_type": "stream",
          "name": "stdout",
          "text": [
            "Hello World!\n"
          ]
        }
      ]
    },
    {
      "cell_type": "markdown",
      "source": [
        "#### See how beautiful it is? Instead of writing class, inside class main function and inside that having sys out to write to console, the code completes in single line. This way the programmer can more concentrate on logic rather than syntactical rules."
      ],
      "metadata": {
        "id": "YwuptRxEK0VA"
      }
    },
    {
      "cell_type": "markdown",
      "source": [
        "# Basic Math calculations on python console"
      ],
      "metadata": {
        "id": "baeUvpQsL9ui"
      }
    },
    {
      "cell_type": "code",
      "source": [
        "# Addition\n",
        "1 + 2 + 3 + 4 + 5"
      ],
      "metadata": {
        "colab": {
          "base_uri": "https://localhost:8080/"
        },
        "id": "HMlOLqaQKmLg",
        "outputId": "c4495f87-8775-41c5-db98-af65d918d49d"
      },
      "execution_count": 2,
      "outputs": [
        {
          "output_type": "execute_result",
          "data": {
            "text/plain": [
              "15"
            ]
          },
          "metadata": {},
          "execution_count": 2
        }
      ]
    },
    {
      "cell_type": "code",
      "source": [
        "# Multiplication\n",
        "5 * 4 * 3 * 2 * 1"
      ],
      "metadata": {
        "colab": {
          "base_uri": "https://localhost:8080/"
        },
        "id": "9D9G7MWGMLF4",
        "outputId": "1806aa84-a3fc-4a79-f351-dcefb73ebff0"
      },
      "execution_count": 3,
      "outputs": [
        {
          "output_type": "execute_result",
          "data": {
            "text/plain": [
              "120"
            ]
          },
          "metadata": {},
          "execution_count": 3
        }
      ]
    },
    {
      "cell_type": "code",
      "source": [
        "# Floating point Division\n",
        "5/3"
      ],
      "metadata": {
        "colab": {
          "base_uri": "https://localhost:8080/"
        },
        "id": "i2_rWvOdMQxX",
        "outputId": "e7c6e8d9-60d1-49b4-c224-3e1cee6e1640"
      },
      "execution_count": 4,
      "outputs": [
        {
          "output_type": "execute_result",
          "data": {
            "text/plain": [
              "1.6666666666666667"
            ]
          },
          "metadata": {},
          "execution_count": 4
        }
      ]
    },
    {
      "cell_type": "code",
      "source": [
        "# Integral point Division\n",
        "5//3"
      ],
      "metadata": {
        "colab": {
          "base_uri": "https://localhost:8080/"
        },
        "id": "u-CDIiBKMU3S",
        "outputId": "ebca3b40-4dbc-4850-f7a1-4e14eeff8c02"
      },
      "execution_count": 5,
      "outputs": [
        {
          "output_type": "execute_result",
          "data": {
            "text/plain": [
              "1"
            ]
          },
          "metadata": {},
          "execution_count": 5
        }
      ]
    },
    {
      "cell_type": "code",
      "source": [
        "# Remainder\n",
        "5 % 3"
      ],
      "metadata": {
        "colab": {
          "base_uri": "https://localhost:8080/"
        },
        "id": "vJ5xTuIUNcwm",
        "outputId": "385f5153-91a7-4ac9-ebfc-389e0f361761"
      },
      "execution_count": 6,
      "outputs": [
        {
          "output_type": "execute_result",
          "data": {
            "text/plain": [
              "2"
            ]
          },
          "metadata": {},
          "execution_count": 6
        }
      ]
    },
    {
      "cell_type": "code",
      "source": [
        "# Power\n",
        "2**3"
      ],
      "metadata": {
        "colab": {
          "base_uri": "https://localhost:8080/"
        },
        "id": "ldijHFMqMdRf",
        "outputId": "dab44c13-51c8-4557-aa34-850856fc9e2a"
      },
      "execution_count": 7,
      "outputs": [
        {
          "output_type": "execute_result",
          "data": {
            "text/plain": [
              "8"
            ]
          },
          "metadata": {},
          "execution_count": 7
        }
      ]
    },
    {
      "cell_type": "code",
      "source": [
        "# Mixed fraction\n",
        "1 + 2 * 4 / 2 ** 3"
      ],
      "metadata": {
        "colab": {
          "base_uri": "https://localhost:8080/"
        },
        "id": "eE5pNTcTMhcu",
        "outputId": "67b4e752-ae56-4c1a-82fe-013a234809bb"
      },
      "execution_count": 8,
      "outputs": [
        {
          "output_type": "execute_result",
          "data": {
            "text/plain": [
              "2.0"
            ]
          },
          "metadata": {},
          "execution_count": 8
        }
      ]
    },
    {
      "cell_type": "markdown",
      "source": [
        "**Precedence of arithematic operators**\n",
        "\n",
        "1.   Perenthesis\n",
        "2.   Exponentiation\n",
        "3.   Multiplication and Division has same precedence\n",
        "4.   Addtion and Substraction has same precedence\n",
        "\n"
      ],
      "metadata": {
        "id": "Idonbfju2Bc_"
      }
    },
    {
      "cell_type": "markdown",
      "source": [
        "### You need not write the entire object oriented code to perform simple calculations, this is the beauty of python"
      ],
      "metadata": {
        "id": "yeopvstpM6co"
      }
    },
    {
      "cell_type": "markdown",
      "source": [
        "# Comments in python"
      ],
      "metadata": {
        "id": "Op_9-2t5N3a0"
      }
    },
    {
      "cell_type": "markdown",
      "source": [
        "\n",
        "\n",
        "1. Single line comment : The text that starts with '\\#' is considered as comment by python interpretor and this line will be ignored and can be used for documenting your code\n",
        "2. Multi line comment : The text that is written inside triple quotes(''' ..... ''' or \"\"\" ..... \"\"\") is considered as multi line comments. Truely speaking, python dont has multipline comments, whatever is written inside triple quotes is considered as Doc strings in python\n",
        "\n"
      ],
      "metadata": {
        "id": "huGV4bIkOCJj"
      }
    },
    {
      "cell_type": "code",
      "source": [
        "# This is a single line comment"
      ],
      "metadata": {
        "id": "LVR0FIK6MoOI"
      },
      "execution_count": 9,
      "outputs": []
    },
    {
      "cell_type": "code",
      "source": [
        "'''This is a doc string encoded in triple quotes, can be used for mentioning for multi line comments'''"
      ],
      "metadata": {
        "colab": {
          "base_uri": "https://localhost:8080/",
          "height": 35
        },
        "id": "9imyhK6gPWX4",
        "outputId": "d77afe36-acdd-4500-c75c-c2429e5f7a7a"
      },
      "execution_count": 10,
      "outputs": [
        {
          "output_type": "execute_result",
          "data": {
            "text/plain": [
              "'This is a doc string encoded in triple quotes, can be used for mentioning for multi line comments'"
            ],
            "application/vnd.google.colaboratory.intrinsic+json": {
              "type": "string"
            }
          },
          "metadata": {},
          "execution_count": 10
        }
      ]
    },
    {
      "cell_type": "code",
      "source": [
        "\"\"\"This is a doc string encoded in triple double quotes, can be used for mentioning for multi line comments\"\"\""
      ],
      "metadata": {
        "colab": {
          "base_uri": "https://localhost:8080/",
          "height": 35
        },
        "id": "Be3Kn8uQPcvr",
        "outputId": "319546f6-35f4-48ff-f13f-b22ca85122ad"
      },
      "execution_count": 11,
      "outputs": [
        {
          "output_type": "execute_result",
          "data": {
            "text/plain": [
              "'This is a doc string encoded in triple double quotes, can be used for mentioning for multi line comments'"
            ],
            "application/vnd.google.colaboratory.intrinsic+json": {
              "type": "string"
            }
          },
          "metadata": {},
          "execution_count": 11
        }
      ]
    },
    {
      "cell_type": "markdown",
      "source": [
        "***Note:*** Doc strings in python is written at the start of function and class. These are used to generate API documentation. The command to generate API documentation is 'python -m pydoc -w document_name'."
      ],
      "metadata": {
        "id": "p2-42bepPwsf"
      }
    },
    {
      "cell_type": "markdown",
      "source": [
        "# Variables in python"
      ],
      "metadata": {
        "id": "ceFc4qWxQvcK"
      }
    },
    {
      "cell_type": "markdown",
      "source": [
        "\n",
        "\n",
        "1.   Python is dynamically typed, that means you need not declare a variable. Instead an assignment statement binds a name to an object and object can be of any type.\n",
        "2.   In other statically typed programming language, all variables should be explicitly declared and assigning a value which is of different type throws an error.\n",
        "\n"
      ],
      "metadata": {
        "id": "lhcNd7WSRWPm"
      }
    },
    {
      "cell_type": "code",
      "source": [
        "# x is a variable with value 5 in it\n",
        "x = 5"
      ],
      "metadata": {
        "id": "HE6sS1UxPslk"
      },
      "execution_count": 12,
      "outputs": []
    },
    {
      "cell_type": "code",
      "source": [
        "# to see type of variable x\n",
        "type(x)"
      ],
      "metadata": {
        "colab": {
          "base_uri": "https://localhost:8080/"
        },
        "id": "1BHWx7yPSUa3",
        "outputId": "3581946a-3ef7-489b-c5b5-14ee887e2c50"
      },
      "execution_count": 13,
      "outputs": [
        {
          "output_type": "execute_result",
          "data": {
            "text/plain": [
              "int"
            ]
          },
          "metadata": {},
          "execution_count": 13
        }
      ]
    },
    {
      "cell_type": "code",
      "source": [
        "# to see address of the variable\n",
        "id(x)"
      ],
      "metadata": {
        "colab": {
          "base_uri": "https://localhost:8080/"
        },
        "id": "ZueWS5uCScsA",
        "outputId": "eafe91a7-9afb-45ee-8c69-a7ae54e8593d"
      },
      "execution_count": 14,
      "outputs": [
        {
          "output_type": "execute_result",
          "data": {
            "text/plain": [
              "139595367022960"
            ]
          },
          "metadata": {},
          "execution_count": 14
        }
      ]
    },
    {
      "cell_type": "code",
      "source": [
        "# this will tag variable y to the same memory location instead of allocation another memory location for it\n",
        "y = x\n",
        "id(y)"
      ],
      "metadata": {
        "colab": {
          "base_uri": "https://localhost:8080/"
        },
        "id": "knyDqurBSo2U",
        "outputId": "bc13dfdd-6ff4-4617-9860-1f5fbfa80b74"
      },
      "execution_count": 15,
      "outputs": [
        {
          "output_type": "execute_result",
          "data": {
            "text/plain": [
              "139595367022960"
            ]
          },
          "metadata": {},
          "execution_count": 15
        }
      ]
    },
    {
      "cell_type": "code",
      "source": [
        "# Now tag x is assigned to different memory location and different data type\n",
        "x = \"I am a string\"\n",
        "type(x)"
      ],
      "metadata": {
        "colab": {
          "base_uri": "https://localhost:8080/"
        },
        "id": "5K8Gv8dTVZEA",
        "outputId": "3ea143af-70dd-4e90-c705-c0b8685a9dbe"
      },
      "execution_count": 16,
      "outputs": [
        {
          "output_type": "execute_result",
          "data": {
            "text/plain": [
              "str"
            ]
          },
          "metadata": {},
          "execution_count": 16
        }
      ]
    },
    {
      "cell_type": "code",
      "source": [
        "# tag y is assigned to same previous memory location\n",
        "y"
      ],
      "metadata": {
        "colab": {
          "base_uri": "https://localhost:8080/"
        },
        "id": "gEXTo9WeVgLh",
        "outputId": "87e00497-538b-4a9a-a7ac-e830ba95b0b2"
      },
      "execution_count": 17,
      "outputs": [
        {
          "output_type": "execute_result",
          "data": {
            "text/plain": [
              "5"
            ]
          },
          "metadata": {},
          "execution_count": 17
        }
      ]
    },
    {
      "cell_type": "code",
      "source": [
        "# address of x\n",
        "id(x)"
      ],
      "metadata": {
        "colab": {
          "base_uri": "https://localhost:8080/"
        },
        "id": "yj6K6bmqV_Za",
        "outputId": "39e875ba-c19e-42ff-a331-566a19cf0349"
      },
      "execution_count": 18,
      "outputs": [
        {
          "output_type": "execute_result",
          "data": {
            "text/plain": [
              "139594937291440"
            ]
          },
          "metadata": {},
          "execution_count": 18
        }
      ]
    },
    {
      "cell_type": "code",
      "source": [
        "# address of y\n",
        "id(y)"
      ],
      "metadata": {
        "colab": {
          "base_uri": "https://localhost:8080/"
        },
        "id": "4VinnZK-VkLc",
        "outputId": "aeac200f-fc99-4db7-8019-24676090839f"
      },
      "execution_count": 19,
      "outputs": [
        {
          "output_type": "execute_result",
          "data": {
            "text/plain": [
              "139595367022960"
            ]
          },
          "metadata": {},
          "execution_count": 19
        }
      ]
    },
    {
      "cell_type": "markdown",
      "source": [
        "#### The above understanding about variables gives sense of how efficiently python utilizes its memory. Because in other programming languages, y will be another memory location and value of the variable x is assigned to it"
      ],
      "metadata": {
        "id": "P8Z06t5RS8iq"
      }
    },
    {
      "cell_type": "markdown",
      "source": [
        "# Output formatting in python : print() function"
      ],
      "metadata": {
        "id": "dyjVuXFdUrbp"
      }
    },
    {
      "cell_type": "code",
      "source": [
        "# To print something print() function is used\n",
        "print(\"Hello World! I am chitti, the robot, Speed 1 tera byte, Memory 1 zeta byte\")"
      ],
      "metadata": {
        "id": "XXTPo8hUS33X",
        "colab": {
          "base_uri": "https://localhost:8080/"
        },
        "outputId": "9afade8e-82d3-47fb-cfa7-14cc58cabb8d"
      },
      "execution_count": 20,
      "outputs": [
        {
          "output_type": "stream",
          "name": "stdout",
          "text": [
            "Hello World! I am chitti, the robot, Speed 1 tera byte, Memory 1 zeta byte\n"
          ]
        }
      ]
    },
    {
      "cell_type": "code",
      "source": [
        "# Now lets try to print by using comma(,)\n",
        "print(\"5 + 3 = \", 7, \"is an incorrect statement.\")"
      ],
      "metadata": {
        "colab": {
          "base_uri": "https://localhost:8080/"
        },
        "id": "aJB1zWzMuI6K",
        "outputId": "9d0acfc0-861c-45ca-b030-ebc2272fc3ba"
      },
      "execution_count": 21,
      "outputs": [
        {
          "output_type": "stream",
          "name": "stdout",
          "text": [
            "5 + 3 =  7 is an incorrect statement.\n"
          ]
        }
      ]
    },
    {
      "cell_type": "code",
      "source": [
        "# Now lets use % and print something\n",
        "x = 5\n",
        "y = 2.5\n",
        "z = \"I am a string\"\n",
        "print(\"%2d + %.1f = %s\" %(x, y, z))\n",
        "print(\"%10d + %.4f = %s\" %(x, y, z))\n",
        "print(\"%-10d + %-10.1f = %s\" %(x, y, z))"
      ],
      "metadata": {
        "colab": {
          "base_uri": "https://localhost:8080/"
        },
        "id": "iPhyZwKuugoO",
        "outputId": "71518774-9d10-46aa-acbb-cc548270b865"
      },
      "execution_count": 22,
      "outputs": [
        {
          "output_type": "stream",
          "name": "stdout",
          "text": [
            " 5 + 2.5 = I am a string\n",
            "         5 + 2.5000 = I am a string\n",
            "5          + 2.5        = I am a string\n"
          ]
        }
      ]
    },
    {
      "cell_type": "code",
      "source": [
        "# To print hexadecimal and octal format of a number\n",
        "x = 9\n",
        "print(\"%o\" %(x))"
      ],
      "metadata": {
        "colab": {
          "base_uri": "https://localhost:8080/"
        },
        "id": "0AtuC5U_vGPA",
        "outputId": "429ede19-3967-4bd5-80eb-8b77bfbd325d"
      },
      "execution_count": 23,
      "outputs": [
        {
          "output_type": "stream",
          "name": "stdout",
          "text": [
            "11\n"
          ]
        }
      ]
    },
    {
      "cell_type": "code",
      "source": [
        "x = 1116\n",
        "print(\"%x\" %(x))"
      ],
      "metadata": {
        "colab": {
          "base_uri": "https://localhost:8080/"
        },
        "id": "jWfOp5eqwpv5",
        "outputId": "2b3db180-a6d9-48f7-8826-2a01157c4146"
      },
      "execution_count": 24,
      "outputs": [
        {
          "output_type": "stream",
          "name": "stdout",
          "text": [
            "45c\n"
          ]
        }
      ]
    },
    {
      "cell_type": "code",
      "source": [
        "x = 10\n",
        "print(bin(x))"
      ],
      "metadata": {
        "colab": {
          "base_uri": "https://localhost:8080/"
        },
        "id": "bIdgrf8Iw1mA",
        "outputId": "91635c5d-6d8f-4aa2-ceb0-3e442c5f8b0f"
      },
      "execution_count": 25,
      "outputs": [
        {
          "output_type": "stream",
          "name": "stdout",
          "text": [
            "0b1010\n"
          ]
        }
      ]
    },
    {
      "cell_type": "code",
      "source": [
        "print(oct(x))"
      ],
      "metadata": {
        "colab": {
          "base_uri": "https://localhost:8080/"
        },
        "id": "eLPJRr5_xGO6",
        "outputId": "4592e201-aff8-4e76-c1bc-15bc48e629e1"
      },
      "execution_count": 26,
      "outputs": [
        {
          "output_type": "stream",
          "name": "stdout",
          "text": [
            "0o12\n"
          ]
        }
      ]
    },
    {
      "cell_type": "code",
      "source": [
        "print(hex(x))"
      ],
      "metadata": {
        "colab": {
          "base_uri": "https://localhost:8080/"
        },
        "id": "lKVtvMC3ykgy",
        "outputId": "fdaaf6de-12d9-491e-9472-fe1f79b28326"
      },
      "execution_count": 27,
      "outputs": [
        {
          "output_type": "stream",
          "name": "stdout",
          "text": [
            "0xa\n"
          ]
        }
      ]
    },
    {
      "cell_type": "code",
      "source": [
        "# print the integer in binary format keeping the leading o's\n",
        "print(format(x, \"#08b\"))"
      ],
      "metadata": {
        "colab": {
          "base_uri": "https://localhost:8080/"
        },
        "id": "yCc2ia_Xzfuu",
        "outputId": "ad46fa2b-5972-4196-8bed-1b22cb273a3f"
      },
      "execution_count": 28,
      "outputs": [
        {
          "output_type": "stream",
          "name": "stdout",
          "text": [
            "0b001010\n"
          ]
        }
      ]
    },
    {
      "cell_type": "code",
      "source": [
        "# you can also take the result into a variable\n",
        "result = format(x, \"08b\")\n",
        "print(result)"
      ],
      "metadata": {
        "colab": {
          "base_uri": "https://localhost:8080/"
        },
        "id": "5rAZYoOzzxNv",
        "outputId": "b731b1bd-d16c-4353-e82c-20bf14fd8547"
      },
      "execution_count": 36,
      "outputs": [
        {
          "output_type": "stream",
          "name": "stdout",
          "text": [
            "00001010\n"
          ]
        }
      ]
    },
    {
      "cell_type": "code",
      "source": [
        "print(format(x, \"#06b\"))"
      ],
      "metadata": {
        "colab": {
          "base_uri": "https://localhost:8080/"
        },
        "id": "2POAgc010AGh",
        "outputId": "ef4ae367-ecf1-41f8-a17a-2bd8947387fd"
      },
      "execution_count": 37,
      "outputs": [
        {
          "output_type": "stream",
          "name": "stdout",
          "text": [
            "0b1010\n"
          ]
        }
      ]
    },
    {
      "cell_type": "code",
      "source": [
        "# Now lets try to use .format()\n",
        "print(\"My name is {one} and my father name is {two}\".format(one = \"Tom\", two = \"Jerry\"))"
      ],
      "metadata": {
        "colab": {
          "base_uri": "https://localhost:8080/"
        },
        "id": "xag-Wsq6ymtZ",
        "outputId": "262549d6-0b8b-4415-a511-45f78259b163"
      },
      "execution_count": 38,
      "outputs": [
        {
          "output_type": "stream",
          "name": "stdout",
          "text": [
            "My name is Tom and my father name is Jerry\n"
          ]
        }
      ]
    },
    {
      "cell_type": "code",
      "source": [
        "# Now escape sequences\n",
        "print(\"I love my \\\"father\\\" and I hate no one.\")"
      ],
      "metadata": {
        "colab": {
          "base_uri": "https://localhost:8080/"
        },
        "id": "JqdX3JXo0Q9F",
        "outputId": "2626f2d8-20b2-4544-95c7-2a7b3b300636"
      },
      "execution_count": 39,
      "outputs": [
        {
          "output_type": "stream",
          "name": "stdout",
          "text": [
            "I love my \"father\" and I hate no one.\n"
          ]
        }
      ]
    },
    {
      "cell_type": "code",
      "source": [
        "print(\"I \\t J \")"
      ],
      "metadata": {
        "colab": {
          "base_uri": "https://localhost:8080/"
        },
        "id": "y3Bj_lWW0r4m",
        "outputId": "6028327c-41ce-4d5a-fe2e-d80235a90ba7"
      },
      "execution_count": 40,
      "outputs": [
        {
          "output_type": "stream",
          "name": "stdout",
          "text": [
            "I \t J \n"
          ]
        }
      ]
    },
    {
      "cell_type": "markdown",
      "source": [
        "***Note* : This is how easily you can do output formating in python. If you are struck somewhere, go and search in google and this will hep you in proceeding further.**"
      ],
      "metadata": {
        "id": "SS91vJiX097r"
      }
    },
    {
      "cell_type": "markdown",
      "source": [
        "***Note* : For operators in python go to Geeks for Geeks or any website that you usually prefer**"
      ],
      "metadata": {
        "id": "1_t3rfOW4CCU"
      }
    },
    {
      "cell_type": "markdown",
      "source": [
        "# Operators\n",
        "\n",
        "\n",
        "1.   Arithematic operators : +, -, /, //, %, **\n",
        "2.   Comparison operators : <, >, <=, >=, ==\n",
        "3.   Logical operators : and, or, not\n",
        "4.   Bitwise operators : &, |, ~, ^, >>, <<\n",
        "5.   Assignment operators : =, +=, -=, *=, /=, %=, //=, **=, &=, |=, ^=, >>=, <<=\n",
        "6.   Membership and Identity operators : in, not in, is, is not\n",
        "\n"
      ],
      "metadata": {
        "id": "C0EsxuHZGjaU"
      }
    },
    {
      "cell_type": "markdown",
      "source": [
        "# Control flow operators in python\n",
        "\n",
        "\n",
        "1.   if-else\n",
        "2.   while loop\n",
        "3.   for loop\n",
        "4.   if-else ladder\n",
        "\n"
      ],
      "metadata": {
        "id": "GrOoexbOInK6"
      }
    },
    {
      "cell_type": "markdown",
      "source": [
        "### IF-ELSE"
      ],
      "metadata": {
        "id": "QJvPcFB3JHDW"
      }
    },
    {
      "cell_type": "code",
      "source": [
        "# if else loop\n",
        "x = 2\n",
        "y = 5\n",
        "if x<=y:\n",
        "  print(\"x is less than y\")\n",
        "else:\n",
        "  print(\"x is greater than y\")"
      ],
      "metadata": {
        "colab": {
          "base_uri": "https://localhost:8080/"
        },
        "id": "ojUuSzDg04N5",
        "outputId": "9ea55dfc-672f-43ce-c01c-d18c12165d99"
      },
      "execution_count": 41,
      "outputs": [
        {
          "output_type": "stream",
          "name": "stdout",
          "text": [
            "x is less than y\n"
          ]
        }
      ]
    },
    {
      "cell_type": "markdown",
      "source": [
        "### WHILE LOOP"
      ],
      "metadata": {
        "id": "0_8k7ORrJi8w"
      }
    },
    {
      "cell_type": "code",
      "source": [
        "# While loop\n",
        "x = 10\n",
        "i = 0\n",
        "while i<=x:\n",
        "  print(i, end=\",\")\n",
        "  i+=1"
      ],
      "metadata": {
        "colab": {
          "base_uri": "https://localhost:8080/"
        },
        "id": "g3G0dDVaJaku",
        "outputId": "7a43cdc7-7ab0-4924-cf48-a59f457cb2a4"
      },
      "execution_count": 42,
      "outputs": [
        {
          "output_type": "stream",
          "name": "stdout",
          "text": [
            "0,1,2,3,4,5,6,7,8,9,10,"
          ]
        }
      ]
    },
    {
      "cell_type": "markdown",
      "source": [
        "### FOR LOOP"
      ],
      "metadata": {
        "id": "1pgf4nrzKMyY"
      }
    },
    {
      "cell_type": "code",
      "source": [
        "# range function\n",
        "range(0,10,2)"
      ],
      "metadata": {
        "colab": {
          "base_uri": "https://localhost:8080/"
        },
        "id": "nqzvL9E-KHB8",
        "outputId": "ac03a0f6-738b-42c8-dfdb-e8e901100880"
      },
      "execution_count": 43,
      "outputs": [
        {
          "output_type": "execute_result",
          "data": {
            "text/plain": [
              "range(0, 10, 2)"
            ]
          },
          "metadata": {},
          "execution_count": 43
        }
      ]
    },
    {
      "cell_type": "markdown",
      "source": [
        "***Note:* range function is used for iterating over for loop**"
      ],
      "metadata": {
        "id": "GoigattmKt_t"
      }
    },
    {
      "cell_type": "code",
      "source": [
        "# for loop\n",
        "for x in range(0,10):\n",
        "  print(x, end=\",\")"
      ],
      "metadata": {
        "colab": {
          "base_uri": "https://localhost:8080/"
        },
        "id": "l9aVERUPKanT",
        "outputId": "b8d62069-e3ca-4b8a-c91a-71b9c3bc7c03"
      },
      "execution_count": 44,
      "outputs": [
        {
          "output_type": "stream",
          "name": "stdout",
          "text": [
            "0,1,2,3,4,5,6,7,8,9,"
          ]
        }
      ]
    },
    {
      "cell_type": "code",
      "source": [
        "for x in range(0,10,2):\n",
        "  print(x, end=\",\")"
      ],
      "metadata": {
        "colab": {
          "base_uri": "https://localhost:8080/"
        },
        "id": "df9rMXH_LK6r",
        "outputId": "a23facf7-46c1-4377-e2d9-90724c4a0aa9"
      },
      "execution_count": 45,
      "outputs": [
        {
          "output_type": "stream",
          "name": "stdout",
          "text": [
            "0,2,4,6,8,"
          ]
        }
      ]
    },
    {
      "cell_type": "code",
      "source": [
        "for x in range(1,10,2):\n",
        "  print(x, end=\",\")"
      ],
      "metadata": {
        "colab": {
          "base_uri": "https://localhost:8080/"
        },
        "id": "WfSEhw1kLQPG",
        "outputId": "5d3b87b8-426c-4639-ef96-2883bbb9fac9"
      },
      "execution_count": 46,
      "outputs": [
        {
          "output_type": "stream",
          "name": "stdout",
          "text": [
            "1,3,5,7,9,"
          ]
        }
      ]
    },
    {
      "cell_type": "code",
      "source": [
        "demo = [1, 2, 3, 4]\n",
        "for x in demo:\n",
        "  print(x, end=\",\")"
      ],
      "metadata": {
        "colab": {
          "base_uri": "https://localhost:8080/"
        },
        "id": "Fs1UO3t6LYxE",
        "outputId": "21fcfbba-7731-434e-99fa-b8d74a9ee9a7"
      },
      "execution_count": 47,
      "outputs": [
        {
          "output_type": "stream",
          "name": "stdout",
          "text": [
            "1,2,3,4,"
          ]
        }
      ]
    },
    {
      "cell_type": "code",
      "source": [
        "demo = [(1,2), (3,4), (5,6)]\n",
        "for x,y in demo:\n",
        "  print(x, y, end=\",\")"
      ],
      "metadata": {
        "colab": {
          "base_uri": "https://localhost:8080/"
        },
        "id": "taE2MNvwLjFU",
        "outputId": "bd66ca66-bb2c-4408-8bff-d941249950d5"
      },
      "execution_count": 48,
      "outputs": [
        {
          "output_type": "stream",
          "name": "stdout",
          "text": [
            "1 2,3 4,5 6,"
          ]
        }
      ]
    },
    {
      "cell_type": "code",
      "source": [
        "demo = [1, 2, 3, 4]\n",
        "demo1 = [2, 3, 4, 5]\n",
        "for x,y in zip(demo, demo1):\n",
        "  print(x, y, end=\",\")"
      ],
      "metadata": {
        "colab": {
          "base_uri": "https://localhost:8080/"
        },
        "id": "6T0bQu0PL0eZ",
        "outputId": "b8015d6b-a51b-4bb8-eed4-da9bada38ebf"
      },
      "execution_count": 49,
      "outputs": [
        {
          "output_type": "stream",
          "name": "stdout",
          "text": [
            "1 2,2 3,3 4,4 5,"
          ]
        }
      ]
    },
    {
      "cell_type": "markdown",
      "source": [
        "### IF-ELSE LADDER"
      ],
      "metadata": {
        "id": "ntsGwKl7M2xO"
      }
    },
    {
      "cell_type": "code",
      "source": [
        "# if else ladder\n",
        "x = 10\n",
        "y = 2\n",
        "z = 5\n",
        "if x<y:\n",
        "  print(\"x is less than y\")\n",
        "elif x<z:\n",
        "  print(\"x is less than z\")\n",
        "else:\n",
        "  print(\"y less than z\")"
      ],
      "metadata": {
        "colab": {
          "base_uri": "https://localhost:8080/"
        },
        "id": "MqAwmcMpMQpP",
        "outputId": "ff435939-079d-4373-aa7a-ae4cbaad9155"
      },
      "execution_count": 50,
      "outputs": [
        {
          "output_type": "stream",
          "name": "stdout",
          "text": [
            "y less than z\n"
          ]
        }
      ]
    },
    {
      "cell_type": "markdown",
      "source": [
        "# Lists"
      ],
      "metadata": {
        "id": "DyzWiMpBPEhP"
      }
    },
    {
      "cell_type": "markdown",
      "source": [
        "**Def:** Lists are dynamically sized arrays with heterogeneous objects in it and can be accessed sequentially. Basically lists will be having a pointers to the memory locations."
      ],
      "metadata": {
        "id": "Tf5X46_ET8k2"
      }
    },
    {
      "cell_type": "code",
      "source": [
        "# creation of lists which has same type of objects\n",
        "list1 = [1,2,3,4]\n",
        "print(list1)"
      ],
      "metadata": {
        "id": "MA8lJMDsMz30",
        "colab": {
          "base_uri": "https://localhost:8080/"
        },
        "outputId": "d2cc7519-ff6a-4a87-c492-1f2818ea6535"
      },
      "execution_count": 60,
      "outputs": [
        {
          "output_type": "stream",
          "name": "stdout",
          "text": [
            "[1, 2, 3, 4]\n"
          ]
        }
      ]
    },
    {
      "cell_type": "code",
      "source": [
        "# creation of lists which has heterogeneous objects\n",
        "list2 = [1, 'I am a string', 12.5, True]\n",
        "print(list2)"
      ],
      "metadata": {
        "colab": {
          "base_uri": "https://localhost:8080/"
        },
        "id": "odqw_FFnUf_w",
        "outputId": "cf34f551-f6c0-4d69-ac56-d694cf9b05e9"
      },
      "execution_count": 61,
      "outputs": [
        {
          "output_type": "stream",
          "name": "stdout",
          "text": [
            "[1, 'I am a string', 12.5, True]\n"
          ]
        }
      ]
    },
    {
      "cell_type": "code",
      "source": [
        "# creation of lists inside another lists\n",
        "list3 = [1, [1, 'I am a string'], 34.5, False]\n",
        "print(list3)"
      ],
      "metadata": {
        "colab": {
          "base_uri": "https://localhost:8080/"
        },
        "id": "sF5-t0htU6p4",
        "outputId": "ab17cbcd-e5b2-4a82-b516-46d785bb9eff"
      },
      "execution_count": 62,
      "outputs": [
        {
          "output_type": "stream",
          "name": "stdout",
          "text": [
            "[1, [1, 'I am a string'], 34.5, False]\n"
          ]
        }
      ]
    },
    {
      "cell_type": "code",
      "source": [
        "# creation of matrix of size M X N\n",
        "list4 = [[1,2,3],\n",
        "         [4,5,6],\n",
        "         [7,8,9]]\n",
        "print(list4)"
      ],
      "metadata": {
        "colab": {
          "base_uri": "https://localhost:8080/"
        },
        "id": "3_m72qefVKoZ",
        "outputId": "1453f344-2aef-4de6-8ca2-bb6020c1d658"
      },
      "execution_count": 63,
      "outputs": [
        {
          "output_type": "stream",
          "name": "stdout",
          "text": [
            "[[1, 2, 3], [4, 5, 6], [7, 8, 9]]\n"
          ]
        }
      ]
    },
    {
      "cell_type": "code",
      "source": [
        "# creation of 3D matrix of size M X N X P\n",
        "list5 = [[[1,2,3],\n",
        "          [4,5,6]],\n",
        "         [[7,8,9],\n",
        "          [10,11,12]]]\n",
        "print(list5)"
      ],
      "metadata": {
        "colab": {
          "base_uri": "https://localhost:8080/"
        },
        "id": "Nk4e8Mx9VZ9D",
        "outputId": "8ba50fb2-1532-4535-f193-a8978474bd71"
      },
      "execution_count": 64,
      "outputs": [
        {
          "output_type": "stream",
          "name": "stdout",
          "text": [
            "[[[1, 2, 3], [4, 5, 6]], [[7, 8, 9], [10, 11, 12]]]\n"
          ]
        }
      ]
    },
    {
      "cell_type": "markdown",
      "source": [
        "***Note:* You can also create list using list() function like l1 = list([1,2,3])**"
      ],
      "metadata": {
        "id": "5rncM6u5WGfq"
      }
    },
    {
      "cell_type": "code",
      "source": [
        "# know size of list\n",
        "print(len(list1), len(list2), len(list3), len(list4), len(list5))"
      ],
      "metadata": {
        "colab": {
          "base_uri": "https://localhost:8080/"
        },
        "id": "BQFgZkNWV4Fw",
        "outputId": "970941ba-4e90-462b-ffde-1be6d562ea19"
      },
      "execution_count": 65,
      "outputs": [
        {
          "output_type": "stream",
          "name": "stdout",
          "text": [
            "4 4 4 3 2\n"
          ]
        }
      ]
    },
    {
      "cell_type": "code",
      "source": [
        "# list indexing and slicing\n",
        "print(\"The first and last elements of list1 are : \", list1[0], list1[-1])"
      ],
      "metadata": {
        "colab": {
          "base_uri": "https://localhost:8080/"
        },
        "id": "-RMhn_eaWhu6",
        "outputId": "f926bc7b-45bf-48a7-cf9a-de39eaca4fb3"
      },
      "execution_count": 66,
      "outputs": [
        {
          "output_type": "stream",
          "name": "stdout",
          "text": [
            "The first and last elements of list1 are :  1 4\n"
          ]
        }
      ]
    },
    {
      "cell_type": "code",
      "source": [
        "# get the first and last 3 elements of list2 using slicing\n",
        "print(list2[:3])\n",
        "print(list2[len(list2)-3::])"
      ],
      "metadata": {
        "colab": {
          "base_uri": "https://localhost:8080/"
        },
        "id": "V4z3t9nIXCn7",
        "outputId": "45376ffd-97b0-4582-f718-9defe9919d3f"
      },
      "execution_count": 67,
      "outputs": [
        {
          "output_type": "stream",
          "name": "stdout",
          "text": [
            "[1, 'I am a string', 12.5]\n",
            "['I am a string', 12.5, True]\n"
          ]
        }
      ]
    },
    {
      "cell_type": "code",
      "source": [
        "# get the first 3 elements of list2 starting from index 1\n",
        "print(list2[1:4])"
      ],
      "metadata": {
        "colab": {
          "base_uri": "https://localhost:8080/"
        },
        "id": "yLeQ5Dr0XSPx",
        "outputId": "85484467-0a4c-4872-85ef-18ccd40ad306"
      },
      "execution_count": 68,
      "outputs": [
        {
          "output_type": "stream",
          "name": "stdout",
          "text": [
            "['I am a string', 12.5, True]\n"
          ]
        }
      ]
    },
    {
      "cell_type": "code",
      "source": [
        "# get the elements at even and odd positions of a list\n",
        "print(list2[0::2])\n",
        "print(list2[1::2])"
      ],
      "metadata": {
        "colab": {
          "base_uri": "https://localhost:8080/"
        },
        "id": "g9iKnF96XdSb",
        "outputId": "cffff76d-0317-4fdd-ddb5-12231925fe40"
      },
      "execution_count": 69,
      "outputs": [
        {
          "output_type": "stream",
          "name": "stdout",
          "text": [
            "[1, 12.5]\n",
            "['I am a string', True]\n"
          ]
        }
      ]
    },
    {
      "cell_type": "code",
      "source": [
        "# print the elements of a list in reverse order\n",
        "print(list2[-1::-1]) # you can also use list.reverse() function to reverse it"
      ],
      "metadata": {
        "colab": {
          "base_uri": "https://localhost:8080/"
        },
        "id": "6-o4K7UyXmGt",
        "outputId": "d8ceb464-add4-4305-88f0-c46deca49a4d"
      },
      "execution_count": 70,
      "outputs": [
        {
          "output_type": "stream",
          "name": "stdout",
          "text": [
            "[True, 12.5, 'I am a string', 1]\n"
          ]
        }
      ]
    },
    {
      "cell_type": "code",
      "source": [
        "# list aliasing : assigning another name to the same list\n",
        "listtemp = list2\n",
        "print(listtemp)"
      ],
      "metadata": {
        "colab": {
          "base_uri": "https://localhost:8080/"
        },
        "id": "3g8phtQTX3TF",
        "outputId": "ac16ecdf-fdc8-44b1-e724-9eeedafede9e"
      },
      "execution_count": 71,
      "outputs": [
        {
          "output_type": "stream",
          "name": "stdout",
          "text": [
            "[1, 'I am a string', 12.5, True]\n"
          ]
        }
      ]
    },
    {
      "cell_type": "code",
      "source": [
        "print(id(listtemp)==id(list2))\n",
        "list2[0] = \"I am another string\"\n",
        "print(listtemp)"
      ],
      "metadata": {
        "colab": {
          "base_uri": "https://localhost:8080/"
        },
        "id": "u00fvc7xY8Q7",
        "outputId": "213e8e3b-00d1-4b7a-d1f7-0d5e7590c9b5"
      },
      "execution_count": 72,
      "outputs": [
        {
          "output_type": "stream",
          "name": "stdout",
          "text": [
            "True\n",
            "['I am another string', 'I am a string', 12.5, True]\n"
          ]
        }
      ]
    },
    {
      "cell_type": "code",
      "source": [
        "# when copy of the same list is needed instead of aliasing\n",
        "listtemp = list2[:] # also can be done using list2.copy()\n",
        "print(id(listtemp)==id(list2))"
      ],
      "metadata": {
        "colab": {
          "base_uri": "https://localhost:8080/"
        },
        "id": "GqEhm2raZBs_",
        "outputId": "c6f32dfc-8c83-44e2-f1b9-89c907f997f3"
      },
      "execution_count": 73,
      "outputs": [
        {
          "output_type": "stream",
          "name": "stdout",
          "text": [
            "False\n"
          ]
        }
      ]
    },
    {
      "cell_type": "code",
      "source": [
        "list2[0] = 1\n",
        "print(list2)\n",
        "print(listtemp)"
      ],
      "metadata": {
        "colab": {
          "base_uri": "https://localhost:8080/"
        },
        "id": "EckXoz53Zpx-",
        "outputId": "3f7c2bbe-3f6e-43fd-de8a-93de63869864"
      },
      "execution_count": 74,
      "outputs": [
        {
          "output_type": "stream",
          "name": "stdout",
          "text": [
            "[1, 'I am a string', 12.5, True]\n",
            "['I am another string', 'I am a string', 12.5, True]\n"
          ]
        }
      ]
    },
    {
      "cell_type": "code",
      "source": [
        "# membership in lists\n",
        "print(12.5 in list2)"
      ],
      "metadata": {
        "colab": {
          "base_uri": "https://localhost:8080/"
        },
        "id": "hDYM_qocak2z",
        "outputId": "fafd5548-23de-455e-d703-6569eee2d644"
      },
      "execution_count": 75,
      "outputs": [
        {
          "output_type": "stream",
          "name": "stdout",
          "text": [
            "True\n"
          ]
        }
      ]
    },
    {
      "cell_type": "code",
      "source": [
        "# iterating over the lists\n",
        "# way 1\n",
        "for i in range(len(list2)):\n",
        "  print(list2[i], end=\", \")"
      ],
      "metadata": {
        "colab": {
          "base_uri": "https://localhost:8080/"
        },
        "id": "CxKCu-lxZzAl",
        "outputId": "0209cf92-06b2-4a1c-ec73-a74f703a7498"
      },
      "execution_count": 76,
      "outputs": [
        {
          "output_type": "stream",
          "name": "stdout",
          "text": [
            "1, I am a string, 12.5, True, "
          ]
        }
      ]
    },
    {
      "cell_type": "code",
      "source": [
        "# way 2\n",
        "for x in list2:\n",
        "  print(x, end=\", \")"
      ],
      "metadata": {
        "colab": {
          "base_uri": "https://localhost:8080/"
        },
        "id": "Gkxp8jxeaD-O",
        "outputId": "bfc5eba4-b2d3-4fad-a7d8-c8be9291a539"
      },
      "execution_count": 77,
      "outputs": [
        {
          "output_type": "stream",
          "name": "stdout",
          "text": [
            "1, I am a string, 12.5, True, "
          ]
        }
      ]
    },
    {
      "cell_type": "code",
      "source": [
        "# lists inbuild functions in python\n",
        "list6 = [2,1,\"a\",\"c\",\"b\",0]\n",
        "list6.index(0) # fist occurence of 0 in list\n",
        "list6.append(10) # appends 10 to the end of list\n",
        "list6.insert(0, 11) # inserts 11 to the position 0\n",
        "list6.count(2) # returns the count of 0 in list\n",
        "list6.extend(list2) # appends list2 to list6\n",
        "list6.remove(0) # removes 0 from list\n",
        "list6.pop() # removes the last element from the list\n",
        "list6.reverse() # reverses the elements of the list\n",
        "list6.clear() # clears all the elemenst of the list"
      ],
      "metadata": {
        "id": "Mr_-0_rQaNZB"
      },
      "execution_count": 78,
      "outputs": []
    },
    {
      "cell_type": "code",
      "source": [
        "list7 = [0,5,2,3,4]\n",
        "list7.sort()\n",
        "print(list7)"
      ],
      "metadata": {
        "colab": {
          "base_uri": "https://localhost:8080/"
        },
        "id": "lyaEMSy1a9L5",
        "outputId": "02db9a89-d5be-4134-8c62-3476938d4721"
      },
      "execution_count": 79,
      "outputs": [
        {
          "output_type": "stream",
          "name": "stdout",
          "text": [
            "[0, 2, 3, 4, 5]\n"
          ]
        }
      ]
    },
    {
      "cell_type": "code",
      "source": [
        "# List comprehension\n",
        "list8 = [x for x in range(1,10,2)]\n",
        "print(list8)"
      ],
      "metadata": {
        "colab": {
          "base_uri": "https://localhost:8080/"
        },
        "id": "aDkAUac1dEis",
        "outputId": "17f37e50-4aa4-48f6-f2c2-1cfe7c7bb20f"
      },
      "execution_count": 80,
      "outputs": [
        {
          "output_type": "stream",
          "name": "stdout",
          "text": [
            "[1, 3, 5, 7, 9]\n"
          ]
        }
      ]
    },
    {
      "cell_type": "code",
      "source": [
        "list9 = [[x for x in range(0,3,1)] for y in range(0,2,1)]\n",
        "print(list9)"
      ],
      "metadata": {
        "colab": {
          "base_uri": "https://localhost:8080/"
        },
        "id": "NKSeFMHNdWUq",
        "outputId": "31b4c588-02ba-4061-a31c-2606ab3e7e79"
      },
      "execution_count": 81,
      "outputs": [
        {
          "output_type": "stream",
          "name": "stdout",
          "text": [
            "[[0, 1, 2], [0, 1, 2]]\n"
          ]
        }
      ]
    },
    {
      "cell_type": "code",
      "source": [
        "list10 = [x**2 for x in range(0,10) if x%2==0]\n",
        "print(list10)"
      ],
      "metadata": {
        "colab": {
          "base_uri": "https://localhost:8080/"
        },
        "id": "NRrb_-l3d9dd",
        "outputId": "a0a3e096-3539-4e0b-9e30-b2b4997170de"
      },
      "execution_count": 82,
      "outputs": [
        {
          "output_type": "stream",
          "name": "stdout",
          "text": [
            "[0, 4, 16, 36, 64]\n"
          ]
        }
      ]
    },
    {
      "cell_type": "markdown",
      "source": [
        "# Tuples"
      ],
      "metadata": {
        "id": "2q71cSBceyf1"
      }
    },
    {
      "cell_type": "markdown",
      "source": [
        "***Note:* Lists are mutable where as tuples are immutable.**"
      ],
      "metadata": {
        "id": "R-JHX2Tfe7Os"
      }
    },
    {
      "cell_type": "code",
      "source": [
        "# creation of tuples\n",
        "tuple1 = (3,1,2)\n",
        "tuple2 = (1, \"I am a string\", (4,5,6), True, 12.5, False)\n",
        "tuple3 = tuple((23,4,\"I am a string\", True))\n",
        "print(tuple1)\n",
        "print(tuple2)\n",
        "print(tuple3)"
      ],
      "metadata": {
        "colab": {
          "base_uri": "https://localhost:8080/"
        },
        "id": "JPSwi3E2eiFW",
        "outputId": "4146f8b9-58d2-4f95-b3c9-36800e1f5206"
      },
      "execution_count": 83,
      "outputs": [
        {
          "output_type": "stream",
          "name": "stdout",
          "text": [
            "(3, 1, 2)\n",
            "(1, 'I am a string', (4, 5, 6), True, 12.5, False)\n",
            "(23, 4, 'I am a string', True)\n"
          ]
        }
      ]
    },
    {
      "cell_type": "code",
      "source": [
        "# trying to modify the element of a tuple throws errors as tuples are immutable\n",
        "tuple1[0] = 2"
      ],
      "metadata": {
        "colab": {
          "base_uri": "https://localhost:8080/",
          "height": 162
        },
        "id": "-Zk1Iw8VgJzy",
        "outputId": "2c4cf096-07b5-45fd-8156-b759af7ea13c"
      },
      "execution_count": 84,
      "outputs": [
        {
          "output_type": "error",
          "ename": "TypeError",
          "evalue": "'tuple' object does not support item assignment",
          "traceback": [
            "\u001b[0;31m---------------------------------------------------------------------------\u001b[0m",
            "\u001b[0;31mTypeError\u001b[0m                                 Traceback (most recent call last)",
            "\u001b[0;32m<ipython-input-84-fb60d6fc4ed1>\u001b[0m in \u001b[0;36m<cell line: 2>\u001b[0;34m()\u001b[0m\n\u001b[1;32m      1\u001b[0m \u001b[0;31m# trying to modify the element of a tuple throws errors as tuples are immutable\u001b[0m\u001b[0;34m\u001b[0m\u001b[0;34m\u001b[0m\u001b[0m\n\u001b[0;32m----> 2\u001b[0;31m \u001b[0mtuple1\u001b[0m\u001b[0;34m[\u001b[0m\u001b[0;36m0\u001b[0m\u001b[0;34m]\u001b[0m \u001b[0;34m=\u001b[0m \u001b[0;36m2\u001b[0m\u001b[0;34m\u001b[0m\u001b[0;34m\u001b[0m\u001b[0m\n\u001b[0m",
            "\u001b[0;31mTypeError\u001b[0m: 'tuple' object does not support item assignment"
          ]
        }
      ]
    },
    {
      "cell_type": "code",
      "source": [
        "# the indexing and slicing is same as lists\n",
        "tuple2[1:3]"
      ],
      "metadata": {
        "id": "RqlYv1oCgk5t",
        "colab": {
          "base_uri": "https://localhost:8080/"
        },
        "outputId": "7ef14de9-09dc-4683-eedd-d4ad6d11b9e8"
      },
      "execution_count": 85,
      "outputs": [
        {
          "output_type": "execute_result",
          "data": {
            "text/plain": [
              "('I am a string', (4, 5, 6))"
            ]
          },
          "metadata": {},
          "execution_count": 85
        }
      ]
    },
    {
      "cell_type": "code",
      "source": [
        "# functions on tuple\n",
        "print(len(tuple2))\n",
        "print(min(tuple1))\n",
        "print(max(tuple1))\n",
        "print(tuple2.count(1))\n",
        "print(tuple2.index(1))\n",
        "print(sorted(tuple1))"
      ],
      "metadata": {
        "colab": {
          "base_uri": "https://localhost:8080/"
        },
        "id": "TyZVW7e0gtfj",
        "outputId": "46974a78-603e-4713-a52d-80f8cc1ccc70"
      },
      "execution_count": 86,
      "outputs": [
        {
          "output_type": "stream",
          "name": "stdout",
          "text": [
            "6\n",
            "1\n",
            "3\n",
            "2\n",
            "0\n",
            "[1, 2, 3]\n"
          ]
        }
      ]
    },
    {
      "cell_type": "code",
      "source": [
        "# sort based on first element of a tuple\n",
        "list8 = [(5,1), (4,2), (3,3), (2,4), (1,5)]\n",
        "print(sorted(list8, key = lambda x : x[0]))"
      ],
      "metadata": {
        "colab": {
          "base_uri": "https://localhost:8080/"
        },
        "id": "OT_CbjMhhLPo",
        "outputId": "8a67c912-1e0b-4b61-9592-0bebf2baecb7"
      },
      "execution_count": 87,
      "outputs": [
        {
          "output_type": "stream",
          "name": "stdout",
          "text": [
            "[(1, 5), (2, 4), (3, 3), (4, 2), (5, 1)]\n"
          ]
        }
      ]
    },
    {
      "cell_type": "code",
      "source": [
        "# iterating over the list having tuples\n",
        "for x,y in list8:\n",
        "  print(x+y+x*y, end=\", \")"
      ],
      "metadata": {
        "colab": {
          "base_uri": "https://localhost:8080/"
        },
        "id": "wPLR9UE0iFRq",
        "outputId": "4d591bd8-1c4e-4236-9e12-9eedc250cc14"
      },
      "execution_count": 88,
      "outputs": [
        {
          "output_type": "stream",
          "name": "stdout",
          "text": [
            "11, 14, 15, 14, 11, "
          ]
        }
      ]
    },
    {
      "cell_type": "markdown",
      "source": [
        "# Dictionaries"
      ],
      "metadata": {
        "id": "TU8rGIiriehP"
      }
    },
    {
      "cell_type": "markdown",
      "source": [
        "\n",
        "\n",
        "1.   A dictionary represents a group of objects arranged in the form of key-value pairs.\n",
        "2.   Dictionary in python is similar to hash maps in java, but in python dictionaries can have mixed type of keys as well as values\n",
        "\n"
      ],
      "metadata": {
        "id": "WsL2HLcujDwU"
      }
    },
    {
      "cell_type": "code",
      "source": [
        "# creation of dictionaries\n",
        "dict1 = {1:2, 2:\"apple\", \"ball\":12.5, \"knows computer\":True, 0:False}\n",
        "dict2 = dict({2:\"apple\", 1:2, \"ball\":12.5, \"knows computer\":True, 0:False})\n",
        "dict3 = dict({(1,2) : \"1\"})\n",
        "print(dict1)\n",
        "print(dict2)\n",
        "print(dict3)"
      ],
      "metadata": {
        "colab": {
          "base_uri": "https://localhost:8080/"
        },
        "id": "xnLicQEaiS_o",
        "outputId": "ecc7265f-d97e-42ad-e552-64a9102a406d"
      },
      "execution_count": 89,
      "outputs": [
        {
          "output_type": "stream",
          "name": "stdout",
          "text": [
            "{1: 2, 2: 'apple', 'ball': 12.5, 'knows computer': True, 0: False}\n",
            "{2: 'apple', 1: 2, 'ball': 12.5, 'knows computer': True, 0: False}\n",
            "{(1, 2): '1'}\n"
          ]
        }
      ]
    },
    {
      "cell_type": "code",
      "source": [
        "# length of dictionary\n",
        "print(len(dict1), len(dict2), len(dict3))"
      ],
      "metadata": {
        "colab": {
          "base_uri": "https://localhost:8080/"
        },
        "id": "qBTdR5lwkiC-",
        "outputId": "df444b95-6d33-4be8-b066-7c19b00d8b5c"
      },
      "execution_count": 90,
      "outputs": [
        {
          "output_type": "stream",
          "name": "stdout",
          "text": [
            "5 5 1\n"
          ]
        }
      ]
    },
    {
      "cell_type": "code",
      "source": [
        "# delete a key-value pair in dictionary\n",
        "del dict2[2]\n",
        "print(dict2)\n",
        "print(1 in dict2)"
      ],
      "metadata": {
        "colab": {
          "base_uri": "https://localhost:8080/"
        },
        "id": "RjECBODcls3C",
        "outputId": "752469ed-694d-4556-fa7f-6a2cc9d9cd2d"
      },
      "execution_count": 91,
      "outputs": [
        {
          "output_type": "stream",
          "name": "stdout",
          "text": [
            "{1: 2, 'ball': 12.5, 'knows computer': True, 0: False}\n",
            "True\n"
          ]
        }
      ]
    },
    {
      "cell_type": "code",
      "source": [
        "# add a new key-value pair to existing dictionary\n",
        "dict2[2] = \"apple\" # this adds 2:\"apple to dictionary at any place\"\n",
        "print(dict2)"
      ],
      "metadata": {
        "colab": {
          "base_uri": "https://localhost:8080/"
        },
        "id": "Xsgj77JmmJJm",
        "outputId": "c50e27ed-aa84-46d3-f077-7c47e6aa261b"
      },
      "execution_count": 92,
      "outputs": [
        {
          "output_type": "stream",
          "name": "stdout",
          "text": [
            "{1: 2, 'ball': 12.5, 'knows computer': True, 0: False, 2: 'apple'}\n"
          ]
        }
      ]
    },
    {
      "cell_type": "markdown",
      "source": [
        "***Note:* Keys should be immutable types in dictionary. For example if you use list as a key, the error pops up**"
      ],
      "metadata": {
        "id": "c9vFZ10_mtCV"
      }
    },
    {
      "cell_type": "code",
      "source": [
        "# Different dictionary methods\n",
        "dict4 = dict.fromkeys([1,2,3], None) # creates a dictionary with keys set to first iterable object and value set to next argument\n",
        "print(dict4)\n",
        "dict4.update(dict1) # updates the dictionary from the elements in dict1\n",
        "print(dict4.items()) # gives the key-value pairs in the form of tuples\n",
        "print(dict4.keys()) # gives the keys from the dictionary\n",
        "print(dict4.values()) # gives the values from the dictionary\n",
        "dict4.pop(3) # pops the item with key 3 from dictionary\n",
        "print(dict4)\n",
        "dict4.setdefault(-1) # if key is not found, then inserts default value -1 to the dictionary\n",
        "dict4.clear() # clears all the elements from the dictionary\n",
        "print(dict4)"
      ],
      "metadata": {
        "colab": {
          "base_uri": "https://localhost:8080/"
        },
        "id": "04fUHytVmVPV",
        "outputId": "b8a373a5-95ae-49eb-e381-49c4aebe172f"
      },
      "execution_count": 93,
      "outputs": [
        {
          "output_type": "stream",
          "name": "stdout",
          "text": [
            "{1: None, 2: None, 3: None}\n",
            "dict_items([(1, 2), (2, 'apple'), (3, None), ('ball', 12.5), ('knows computer', True), (0, False)])\n",
            "dict_keys([1, 2, 3, 'ball', 'knows computer', 0])\n",
            "dict_values([2, 'apple', None, 12.5, True, False])\n",
            "{1: 2, 2: 'apple', 'ball': 12.5, 'knows computer': True, 0: False}\n",
            "{}\n"
          ]
        }
      ]
    },
    {
      "cell_type": "code",
      "source": [
        "# Using for loops in dictionary\n",
        "for x in dict1:\n",
        "  print(x, end=\", \")\n",
        "print()\n",
        "for x in dict1:\n",
        "  print(dict1[x], end=\", \")\n",
        "print()\n",
        "for k,v in dict1.items():\n",
        "  print(k,v, end=\", \")"
      ],
      "metadata": {
        "colab": {
          "base_uri": "https://localhost:8080/"
        },
        "id": "JIKjX1hWnVCC",
        "outputId": "e9b962f1-e55c-4957-ec53-baefc37cf0ce"
      },
      "execution_count": 94,
      "outputs": [
        {
          "output_type": "stream",
          "name": "stdout",
          "text": [
            "1, 2, ball, knows computer, 0, \n",
            "2, apple, 12.5, True, False, \n",
            "1 2, 2 apple, ball 12.5, knows computer True, 0 False, "
          ]
        }
      ]
    },
    {
      "cell_type": "code",
      "source": [
        "# creating dictionaries from lists\n",
        "list9 = [1,2,3]\n",
        "list10 = [\"a\", \"b\", \"c\"]\n",
        "z = zip(list9, list10)\n",
        "dict5 = dict(z)\n",
        "print(dict5)"
      ],
      "metadata": {
        "colab": {
          "base_uri": "https://localhost:8080/"
        },
        "id": "iAvrJGbLp6Wq",
        "outputId": "bf66b140-577c-4ef4-c2c7-ad9b9e4f2c84"
      },
      "execution_count": 95,
      "outputs": [
        {
          "output_type": "stream",
          "name": "stdout",
          "text": [
            "{1: 'a', 2: 'b', 3: 'c'}\n"
          ]
        }
      ]
    },
    {
      "cell_type": "markdown",
      "source": [
        "# Sets"
      ],
      "metadata": {
        "id": "BFhoSQzWrgjk"
      }
    },
    {
      "cell_type": "markdown",
      "source": [
        "The sets in python are an unordered collection of items. It is iterable, mutable and has no duplicates"
      ],
      "metadata": {
        "id": "M5PEMjYJ0MmX"
      }
    },
    {
      "cell_type": "code",
      "source": [
        "# creation of sets\n",
        "set1 = {1,2,3,3,4,1,5,10,10}\n",
        "print(set1)\n",
        "list11 = [1,2,2,2,3,4,5,6,5,7,1]\n",
        "set2 = set(list11)\n",
        "print(set2)"
      ],
      "metadata": {
        "id": "7hliJoRqq3R1",
        "colab": {
          "base_uri": "https://localhost:8080/"
        },
        "outputId": "d073c99e-d4c5-4b9b-c2fc-c4efe58ac1f3"
      },
      "execution_count": 96,
      "outputs": [
        {
          "output_type": "stream",
          "name": "stdout",
          "text": [
            "{1, 2, 3, 4, 5, 10}\n",
            "{1, 2, 3, 4, 5, 6, 7}\n"
          ]
        }
      ]
    },
    {
      "cell_type": "code",
      "source": [
        "# We can add or delete an element from set but we cannot perform indexing and item assignment\n",
        "set1[0] = 1 # this will give an error"
      ],
      "metadata": {
        "colab": {
          "base_uri": "https://localhost:8080/",
          "height": 162
        },
        "id": "O9yxqsAI1TCq",
        "outputId": "5a9def68-1002-45b0-886e-ae8da01f877c"
      },
      "execution_count": 97,
      "outputs": [
        {
          "output_type": "error",
          "ename": "TypeError",
          "evalue": "'set' object does not support item assignment",
          "traceback": [
            "\u001b[0;31m---------------------------------------------------------------------------\u001b[0m",
            "\u001b[0;31mTypeError\u001b[0m                                 Traceback (most recent call last)",
            "\u001b[0;32m<ipython-input-97-903fedfb9414>\u001b[0m in \u001b[0;36m<cell line: 2>\u001b[0;34m()\u001b[0m\n\u001b[1;32m      1\u001b[0m \u001b[0;31m# We can add or delete an element from set but we cannot perform indexing and item assignment\u001b[0m\u001b[0;34m\u001b[0m\u001b[0;34m\u001b[0m\u001b[0m\n\u001b[0;32m----> 2\u001b[0;31m \u001b[0mset1\u001b[0m\u001b[0;34m[\u001b[0m\u001b[0;36m0\u001b[0m\u001b[0;34m]\u001b[0m \u001b[0;34m=\u001b[0m \u001b[0;36m1\u001b[0m \u001b[0;31m# this will give an error\u001b[0m\u001b[0;34m\u001b[0m\u001b[0;34m\u001b[0m\u001b[0m\n\u001b[0m",
            "\u001b[0;31mTypeError\u001b[0m: 'set' object does not support item assignment"
          ]
        }
      ]
    },
    {
      "cell_type": "code",
      "source": [
        "set1.add(108) # This will add\n",
        "set1.remove(1) # This will remove\n",
        "print(set1)"
      ],
      "metadata": {
        "id": "6T0eTCTM1xDn",
        "colab": {
          "base_uri": "https://localhost:8080/"
        },
        "outputId": "a5a23ba1-b80a-4ba1-b8b0-28dad38d2a2c"
      },
      "execution_count": 98,
      "outputs": [
        {
          "output_type": "stream",
          "name": "stdout",
          "text": [
            "{2, 3, 4, 5, 10, 108}\n"
          ]
        }
      ]
    },
    {
      "cell_type": "code",
      "source": [
        "# Both produces same result\n",
        "print(set1.union(set2))\n",
        "print(set1 | set2)"
      ],
      "metadata": {
        "id": "cjfYQSr319EZ",
        "colab": {
          "base_uri": "https://localhost:8080/"
        },
        "outputId": "30e66258-7e8a-4c83-bffb-40ca79c0873e"
      },
      "execution_count": 99,
      "outputs": [
        {
          "output_type": "stream",
          "name": "stdout",
          "text": [
            "{1, 2, 3, 4, 5, 6, 7, 10, 108}\n",
            "{1, 2, 3, 4, 5, 6, 7, 10, 108}\n"
          ]
        }
      ]
    },
    {
      "cell_type": "code",
      "source": [
        "# Both will produce same result\n",
        "print(set1.intersection(set2))\n",
        "print(set1 & set2)"
      ],
      "metadata": {
        "colab": {
          "base_uri": "https://localhost:8080/"
        },
        "id": "HRhfysF-2F0G",
        "outputId": "13b541c2-fd67-4143-d1a3-538d288a367a"
      },
      "execution_count": 100,
      "outputs": [
        {
          "output_type": "stream",
          "name": "stdout",
          "text": [
            "{2, 3, 4, 5}\n",
            "{2, 3, 4, 5}\n"
          ]
        }
      ]
    },
    {
      "cell_type": "code",
      "source": [
        "# Both will produce same result\n",
        "print(set1.difference(set2))\n",
        "print(set1 - set2)"
      ],
      "metadata": {
        "colab": {
          "base_uri": "https://localhost:8080/"
        },
        "id": "5SdBDea_2UJr",
        "outputId": "37425d7a-e27d-48b3-9bda-d65c9b55dc95"
      },
      "execution_count": 101,
      "outputs": [
        {
          "output_type": "stream",
          "name": "stdout",
          "text": [
            "{10, 108}\n",
            "{10, 108}\n"
          ]
        }
      ]
    },
    {
      "cell_type": "code",
      "source": [
        "# Both will produce same result\n",
        "print(set1.symmetric_difference(set2))\n",
        "print(set1 ^ set2)"
      ],
      "metadata": {
        "colab": {
          "base_uri": "https://localhost:8080/"
        },
        "id": "Gx8Ks5cL28Bg",
        "outputId": "6a78c49d-cc27-4b38-bd49-205e214b8c6f"
      },
      "execution_count": 102,
      "outputs": [
        {
          "output_type": "stream",
          "name": "stdout",
          "text": [
            "{1, 6, 7, 10, 108}\n",
            "{1, 6, 7, 10, 108}\n"
          ]
        }
      ]
    },
    {
      "cell_type": "code",
      "source": [
        "# Most useful operation for which sets are used\n",
        "print(1 in set1)"
      ],
      "metadata": {
        "colab": {
          "base_uri": "https://localhost:8080/"
        },
        "id": "_CGZwXk03YZE",
        "outputId": "3b088fa5-a010-46ed-fec6-fb4cd80c9257"
      },
      "execution_count": 103,
      "outputs": [
        {
          "output_type": "stream",
          "name": "stdout",
          "text": [
            "False\n"
          ]
        }
      ]
    },
    {
      "cell_type": "code",
      "source": [
        "# frozen sets\n",
        "frozenset1 = frozenset(set1)\n",
        "print(frozenset1)\n",
        "print(type(frozenset1))"
      ],
      "metadata": {
        "colab": {
          "base_uri": "https://localhost:8080/"
        },
        "id": "XDBK6iNf30PJ",
        "outputId": "75fe5aec-ced6-473e-9000-3e91be492203"
      },
      "execution_count": 104,
      "outputs": [
        {
          "output_type": "stream",
          "name": "stdout",
          "text": [
            "frozenset({2, 3, 4, 5, 10, 108})\n",
            "<class 'frozenset'>\n"
          ]
        }
      ]
    },
    {
      "cell_type": "code",
      "source": [
        "# You cannot add or delete elements from frozen set\n",
        "frozenset1.add(109)\n",
        "print(frozenset1)"
      ],
      "metadata": {
        "colab": {
          "base_uri": "https://localhost:8080/",
          "height": 180
        },
        "id": "ii0sWf2A4R05",
        "outputId": "098c92ce-cbf7-4ba0-8651-e0cc5c7cf531"
      },
      "execution_count": 105,
      "outputs": [
        {
          "output_type": "error",
          "ename": "AttributeError",
          "evalue": "'frozenset' object has no attribute 'add'",
          "traceback": [
            "\u001b[0;31m---------------------------------------------------------------------------\u001b[0m",
            "\u001b[0;31mAttributeError\u001b[0m                            Traceback (most recent call last)",
            "\u001b[0;32m<ipython-input-105-524b7df764e1>\u001b[0m in \u001b[0;36m<cell line: 2>\u001b[0;34m()\u001b[0m\n\u001b[1;32m      1\u001b[0m \u001b[0;31m# You cannot add or delete elements from frozen set\u001b[0m\u001b[0;34m\u001b[0m\u001b[0;34m\u001b[0m\u001b[0m\n\u001b[0;32m----> 2\u001b[0;31m \u001b[0mfrozenset1\u001b[0m\u001b[0;34m.\u001b[0m\u001b[0madd\u001b[0m\u001b[0;34m(\u001b[0m\u001b[0;36m109\u001b[0m\u001b[0;34m)\u001b[0m\u001b[0;34m\u001b[0m\u001b[0;34m\u001b[0m\u001b[0m\n\u001b[0m\u001b[1;32m      3\u001b[0m \u001b[0mprint\u001b[0m\u001b[0;34m(\u001b[0m\u001b[0mfrozenset1\u001b[0m\u001b[0;34m)\u001b[0m\u001b[0;34m\u001b[0m\u001b[0;34m\u001b[0m\u001b[0m\n",
            "\u001b[0;31mAttributeError\u001b[0m: 'frozenset' object has no attribute 'add'"
          ]
        }
      ]
    },
    {
      "cell_type": "code",
      "source": [
        "# update function will update the elements of set1 with set2\n",
        "set1 = {1,2,3}\n",
        "set2 = {3,4,5}\n",
        "set1.update(set2)\n",
        "print(set1)"
      ],
      "metadata": {
        "id": "XqTd3RoC4axl",
        "colab": {
          "base_uri": "https://localhost:8080/"
        },
        "outputId": "b3af6023-8eb9-40e1-b9c3-86a750b6a607"
      },
      "execution_count": 106,
      "outputs": [
        {
          "output_type": "stream",
          "name": "stdout",
          "text": [
            "{1, 2, 3, 4, 5}\n"
          ]
        }
      ]
    },
    {
      "cell_type": "code",
      "source": [
        "# This will do the same thing as above and logically also correct\n",
        "set1 = {1,2,3}\n",
        "set2 = {3,4,5}\n",
        "set1 |= set2\n",
        "print(set1)"
      ],
      "metadata": {
        "id": "ztjKyT3x5RpU",
        "colab": {
          "base_uri": "https://localhost:8080/"
        },
        "outputId": "5bd80d6c-201d-45f5-b689-148e75654b76"
      },
      "execution_count": 107,
      "outputs": [
        {
          "output_type": "stream",
          "name": "stdout",
          "text": [
            "{1, 2, 3, 4, 5}\n"
          ]
        }
      ]
    },
    {
      "cell_type": "markdown",
      "source": [
        "***Note: *Learn about reduce function at https://www.geeksforgeeks.org/python-append-multiple-elements-in-set/?ref=lbp**"
      ],
      "metadata": {
        "id": "tWMoOoM66QA4"
      }
    },
    {
      "cell_type": "markdown",
      "source": [
        "# Functions"
      ],
      "metadata": {
        "id": "ZD-eD5kC6f6j"
      }
    },
    {
      "cell_type": "markdown",
      "source": [
        "To define functions, **def** keyword is used followed by function name, parameters and function body"
      ],
      "metadata": {
        "id": "TwNoNLym6kJJ"
      }
    },
    {
      "cell_type": "code",
      "source": [
        "# Simple python function which adds two numbers\n",
        "def addition(x, y):\n",
        "  return x+y\n",
        "print(addition(1,2))"
      ],
      "metadata": {
        "colab": {
          "base_uri": "https://localhost:8080/"
        },
        "id": "zYpRw7IA5kIt",
        "outputId": "d240437e-e67e-4818-d339-5b5e7175ff04"
      },
      "execution_count": 108,
      "outputs": [
        {
          "output_type": "stream",
          "name": "stdout",
          "text": [
            "3\n"
          ]
        }
      ]
    },
    {
      "cell_type": "code",
      "source": [
        "# A different kind of function which takes default values if nothing is provided\n",
        "def addition1(x=10, y=20):\n",
        "  return x+y\n",
        "print(addition1())\n",
        "print(addition1(20,30))"
      ],
      "metadata": {
        "colab": {
          "base_uri": "https://localhost:8080/"
        },
        "id": "e2y3LaAB7Mro",
        "outputId": "0053341e-4db3-403b-ffd2-ba912b386c62"
      },
      "execution_count": 109,
      "outputs": [
        {
          "output_type": "stream",
          "name": "stdout",
          "text": [
            "30\n",
            "50\n"
          ]
        }
      ]
    },
    {
      "cell_type": "markdown",
      "source": [
        "***Note: *You can use mixture of variables with default values and without default values**"
      ],
      "metadata": {
        "id": "gIkpt2VU7vkM"
      }
    },
    {
      "cell_type": "markdown",
      "source": [
        "map() and filter() functions with lambda expressions"
      ],
      "metadata": {
        "id": "QrXl79Xr8eC_"
      }
    },
    {
      "cell_type": "code",
      "source": [
        "# map() function\n",
        "list1 = (1,2,3,4,5)\n",
        "list2 = (1,2,3,4,5)\n",
        "result = map(addition, list1, list2)\n",
        "print(list(result))"
      ],
      "metadata": {
        "colab": {
          "base_uri": "https://localhost:8080/"
        },
        "id": "lUR6YTtD7l0B",
        "outputId": "813647ae-966c-4b13-e187-0d73ffbd7007"
      },
      "execution_count": 110,
      "outputs": [
        {
          "output_type": "stream",
          "name": "stdout",
          "text": [
            "[2, 4, 6, 8, 10]\n"
          ]
        }
      ]
    },
    {
      "cell_type": "code",
      "source": [
        "# filter() function with the help of lambda expression\n",
        "result = filter(lambda x : x%2==0, list1)\n",
        "print(list(result))"
      ],
      "metadata": {
        "colab": {
          "base_uri": "https://localhost:8080/"
        },
        "id": "DsXSZWy98wcS",
        "outputId": "46787f2d-9955-4002-d80d-0e2fc32b23e3"
      },
      "execution_count": 111,
      "outputs": [
        {
          "output_type": "stream",
          "name": "stdout",
          "text": [
            "[2, 4]\n"
          ]
        }
      ]
    },
    {
      "cell_type": "markdown",
      "source": [
        "# OOPS concepts in python"
      ],
      "metadata": {
        "id": "etz3x8w1969k"
      }
    },
    {
      "cell_type": "markdown",
      "source": [
        "### Classes and Objects"
      ],
      "metadata": {
        "id": "V8GRT4xD9-Gl"
      }
    },
    {
      "cell_type": "markdown",
      "source": [
        "Basically a class has 3 things\n",
        "\n",
        "\n",
        "1.   Identity: Name of the class.\n",
        "2.   State/Attributes: There will be 2 types of attributes, instance and class attributes.\n",
        "3.   Behaviour: Functions in class\n",
        "\n"
      ],
      "metadata": {
        "id": "FDXYMJbiiXfD"
      }
    },
    {
      "cell_type": "markdown",
      "source": [
        "***Note:* A class is a logical entity(not alive or stays in permanent storage) and object is a physical entity(alive or stays in physical storage(RAM))**"
      ],
      "metadata": {
        "id": "kXpSlfPCizPE"
      }
    },
    {
      "cell_type": "code",
      "source": [
        "# demo is the class identity\n",
        "class demo:\n",
        "  #Class attribute, state/attributes\n",
        "  class_name = \"demo\"\n",
        "\n",
        "  # instance attributes, state/attributes\n",
        "  def __init__(self, a1, a2):\n",
        "    self.a1 = a1\n",
        "    self.a2 = a2\n",
        "    self.__privateVariable = \"test_private\"\n",
        "\n",
        "  # behaviour/functions\n",
        "  def addNums(self):\n",
        "    return self.a1 + self.a2\n",
        "\n",
        "  def printNums(self):\n",
        "    print(\"number1 and number2 respectively are {one} and {two}\".format(one=self.a1, two=self.a2))\n",
        "\n",
        "  def __str__(self):\n",
        "    print(\"I am default __str__ function which can be used to display the information about the class...\")\n",
        "\n",
        "  def __del__(self):\n",
        "    print(\"I am a destructor, I will be called automatically when there is no reference of a object and I am no need to be defined\")"
      ],
      "metadata": {
        "id": "JzcrYNZQ9aiU"
      },
      "execution_count": 122,
      "outputs": []
    },
    {
      "cell_type": "code",
      "source": [
        "d = demo(1,2)\n",
        "print(d.__class__.class_name)\n",
        "print(d.addNums())\n",
        "print(d.printNums())\n",
        "print(d._demo__privateVariable) # not strictly private"
      ],
      "metadata": {
        "colab": {
          "base_uri": "https://localhost:8080/"
        },
        "id": "NvSoWDg5-0NM",
        "outputId": "1924f9c6-13b3-40ce-f4d7-4807c8c1ef41"
      },
      "execution_count": 124,
      "outputs": [
        {
          "output_type": "stream",
          "name": "stdout",
          "text": [
            "demo\n",
            "3\n",
            "number1 and number2 respectively are 1 and 2\n",
            "None\n",
            "test_private\n",
            "I am a destructor, I will be called automatically when there is no reference of a object and I am no need to be defined\n"
          ]
        }
      ]
    },
    {
      "cell_type": "code",
      "source": [
        "d1 = demo(10,20)\n",
        "d1.__class__.class_name = \"sid\"\n",
        "print(d1.__class__.class_name)\n",
        "print(d.__class__.class_name)"
      ],
      "metadata": {
        "colab": {
          "base_uri": "https://localhost:8080/"
        },
        "id": "pXh6h5qDbfMK",
        "outputId": "cf2f0481-2a63-4245-8437-5860941247d1"
      },
      "execution_count": 125,
      "outputs": [
        {
          "output_type": "stream",
          "name": "stdout",
          "text": [
            "sid\n",
            "sid\n"
          ]
        }
      ]
    },
    {
      "cell_type": "code",
      "source": [
        "del d\n",
        "del d1"
      ],
      "metadata": {
        "colab": {
          "base_uri": "https://localhost:8080/"
        },
        "id": "5rV0B4QtfjVu",
        "outputId": "436e53ef-937c-4cc1-cecd-c9ea560866e2"
      },
      "execution_count": 126,
      "outputs": [
        {
          "output_type": "stream",
          "name": "stdout",
          "text": [
            "I am a destructor, I will be called automatically when there is no reference of a object and I am no need to be defined\n",
            "I am a destructor, I will be called automatically when there is no reference of a object and I am no need to be defined\n"
          ]
        }
      ]
    },
    {
      "cell_type": "markdown",
      "source": [
        "**The remaining OOPS concepts like Inheritance, Polymorphism, Encapsulation and data abstraction etc by googling as well as in geeks for geeks website or anyother popular websites**"
      ],
      "metadata": {
        "id": "rk9c8mz1_Xnu"
      }
    },
    {
      "cell_type": "markdown",
      "source": [
        "## Inheritance, Polymorphism"
      ],
      "metadata": {
        "id": "Hs5uVSF3fzuN"
      }
    },
    {
      "cell_type": "code",
      "source": [
        "#Planet is the identity of the class\n",
        "class Planet:\n",
        "  \"\"\"\n",
        "  Base class Planet\n",
        "  \"\"\"\n",
        "  # constructor, instance variables, state/attributes of the class\n",
        "  def __init__(self, name, myStar, myPosition):\n",
        "    self.name = name\n",
        "    self.myStar = myStar\n",
        "    self.myPosition = myPosition\n",
        "\n",
        "  # function __specifics__ or behaviour of the class\n",
        "  def __specifics__(self):\n",
        "    print(\"This planet name is {name}, it orbits around the star {star} and I am {nth}th planet from my star\".format(name=self.name, star=self.nameOfTheOrbitingStar, nth=self.nofPlanetFromStar))\n"
      ],
      "metadata": {
        "id": "seaJeaJ4-9Km"
      },
      "execution_count": 127,
      "outputs": []
    },
    {
      "cell_type": "code",
      "source": [
        "class Earth(Planet):\n",
        "  \"\"\"\n",
        "  Derived class Earth which inherits the properties of Base class Planet\n",
        "  \"\"\"\n",
        "  def __init__(self, name, myStar, myPosition, distanceFromMyStar, naturalSatellites, satelliteNames):\n",
        "    self.distanceFromMyStar = distanceFromMyStar\n",
        "    self.naturalSatellites = naturalSatellites\n",
        "    self.satelliteNames = satelliteNames\n",
        "\n",
        "    Planet.__init__(self, name, myStar, myPosition)\n",
        "\n",
        "  # Polymorphism, method overriding\n",
        "  def __specifics__(self):\n",
        "    print(\"I am the planet, {name}\".format(name=self.name), end=\",\\n\")\n",
        "    print(\"I revolve around {myStar}\".format(myStar=self.myStar), end=\",\\n\")\n",
        "    print(\"I am the {nth} planet from {myStar} and I am {distanceFromMyStar} units from {myStar}.\".format(nth=self.myPosition, myStar=self.myStar, distanceFromMyStar=self.distanceFromMyStar))\n",
        "    print(\"I have {number} natural satellites and their names are {satelliteNames}\".format(number=self.naturalSatellites, satelliteNames=self.satelliteNames))"
      ],
      "metadata": {
        "id": "GoI1EOM_kMcu"
      },
      "execution_count": 128,
      "outputs": []
    },
    {
      "cell_type": "code",
      "source": [
        "p1 = Earth(\"Earth\", \"Sun\", \"3rd\", \"147.1 million km\", 1, [\"Moon\"])\n",
        "p1.__specifics__()"
      ],
      "metadata": {
        "colab": {
          "base_uri": "https://localhost:8080/"
        },
        "id": "CG1uXp4zncFc",
        "outputId": "46b7a8b5-7f8e-421f-bf1f-94c90350c4d2"
      },
      "execution_count": 129,
      "outputs": [
        {
          "output_type": "stream",
          "name": "stdout",
          "text": [
            "I am the planet, Earth,\n",
            "I revolve around Sun,\n",
            "I am the 3rd planet from Sun and I am 147.1 million km units from Sun.\n",
            "I have 1 natural satellites and their names are ['Moon']\n"
          ]
        }
      ]
    },
    {
      "cell_type": "markdown",
      "source": [
        "# Exception Handling\n",
        "\n",
        "\n",
        "\n",
        "1.   Error: A problem in a program which causes it to terminate.\n",
        "2.   Exception: A problem in a program which changes the normal execution flow rather than terminating the program\n",
        "\n"
      ],
      "metadata": {
        "id": "q3N6XnEuc12j"
      }
    },
    {
      "cell_type": "markdown",
      "source": [
        "Five important keywords in python exception handling\n",
        "\n",
        "\n",
        "1.   try: Here write your code for which you want to handle exception.\n",
        "2.   except: What to do if an exception occurs.\n",
        "3.   else: Code if exception dont occur.\n",
        "4.   finally: Code that should be executed at last.\n",
        "5.   raise: To raise any kind of exception.\n"
      ],
      "metadata": {
        "id": "iYDTlLEReMpT"
      }
    },
    {
      "cell_type": "code",
      "source": [
        "# Here taking the example of ZeroDivisionError\n",
        "def testDivisionByZeroExceptionHandling():\n",
        "  try:\n",
        "    a = int(input())\n",
        "    b = int(input())\n",
        "    result = a/b\n",
        "  except ZeroDivisionError:\n",
        "    print(\"Division by zero error. Trying to divide {a}/{b}\".format(a=a, b=b))\n",
        "  else:\n",
        "    print(\"Division successfull...{a}/{b}={c}\".format(a=a,b=b,c=result))\n",
        "  finally:\n",
        "    print(\"I will execute whatever be the code in the try block\")"
      ],
      "metadata": {
        "id": "isqQ10i5obRd"
      },
      "execution_count": 130,
      "outputs": []
    },
    {
      "cell_type": "code",
      "source": [
        "testDivisionByZeroExceptionHandling()"
      ],
      "metadata": {
        "colab": {
          "base_uri": "https://localhost:8080/"
        },
        "id": "lXysf7R_gAxY",
        "outputId": "ea3569a5-c7de-42b1-9740-5ade620dc2b0"
      },
      "execution_count": 131,
      "outputs": [
        {
          "output_type": "stream",
          "name": "stdout",
          "text": [
            "1\n",
            "2\n",
            "Division successfull...1/2=0.5\n",
            "I will execute whatever be the code in the try block\n"
          ]
        }
      ]
    },
    {
      "cell_type": "code",
      "source": [
        "testDivisionByZeroExceptionHandling()"
      ],
      "metadata": {
        "colab": {
          "base_uri": "https://localhost:8080/"
        },
        "id": "EDR2SJKqgRXn",
        "outputId": "f5cff762-feaf-4124-ad1b-cae55e7ac949"
      },
      "execution_count": 132,
      "outputs": [
        {
          "output_type": "stream",
          "name": "stdout",
          "text": [
            "I am a destructor, I will be called automatically when there is no reference of a object and I am no need to be defined\n",
            "I am a destructor, I will be called automatically when there is no reference of a object and I am no need to be defined\n",
            "3\n",
            "0\n",
            "Division by zero error. Trying to divide 3/0\n",
            "I will execute whatever be the code in the try block\n"
          ]
        }
      ]
    },
    {
      "cell_type": "markdown",
      "source": [
        "***Note:* You can define your exception by extending Exception class**"
      ],
      "metadata": {
        "id": "Fr3rqy7ggisP"
      }
    },
    {
      "cell_type": "code",
      "source": [
        "class MyException(Exception):\n",
        "  pass\n",
        "\n",
        "try:\n",
        "  raise MyException\n",
        "except MyException as error:\n",
        "  print(\"Raised user defined exception...\")"
      ],
      "metadata": {
        "colab": {
          "base_uri": "https://localhost:8080/"
        },
        "id": "Uvb_Fr6OgV9X",
        "outputId": "c5c9c38c-744c-4e66-d7c0-ca1ca4e9ea11"
      },
      "execution_count": 133,
      "outputs": [
        {
          "output_type": "stream",
          "name": "stdout",
          "text": [
            "Raised user defined exception...\n"
          ]
        }
      ]
    },
    {
      "cell_type": "code",
      "source": [
        "class MyException(Exception):\n",
        "\n",
        "  def __init__(self, value):\n",
        "    self.value = value\n",
        "\n",
        "  def __str__(self):\n",
        "    print(\"Raised user defined exception: \", self.value)\n",
        "\n",
        "try:\n",
        "  raise MyException(3*2)\n",
        "except MyException as error:\n",
        "  print(\"MyException value: \", error.value)"
      ],
      "metadata": {
        "colab": {
          "base_uri": "https://localhost:8080/"
        },
        "id": "Bq8TtEdMhRa0",
        "outputId": "e043baad-bd2d-4f7b-e514-6aa2206f634f"
      },
      "execution_count": 134,
      "outputs": [
        {
          "output_type": "stream",
          "name": "stdout",
          "text": [
            "MyException value:  6\n"
          ]
        }
      ]
    },
    {
      "cell_type": "code",
      "source": [],
      "metadata": {
        "id": "AKETXzVehtYP"
      },
      "execution_count": 134,
      "outputs": []
    }
  ]
}