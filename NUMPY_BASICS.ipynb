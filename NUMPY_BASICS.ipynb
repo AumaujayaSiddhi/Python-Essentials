{
  "nbformat": 4,
  "nbformat_minor": 0,
  "metadata": {
    "colab": {
      "provenance": []
    },
    "kernelspec": {
      "name": "python3",
      "display_name": "Python 3"
    },
    "language_info": {
      "name": "python"
    }
  },
  "cells": [
    {
      "cell_type": "markdown",
      "source": [
        "## What is numpy?\n",
        "  1. **Numerical python** in short **numpy** is a python library which is used mainly for working with **n dimensional arrays**. It consists of all the required mathematical functions.\n",
        "  2. Unlike lists numpy arrays are faster as it uses well optimized **C compiled code**.\n",
        "  3. It also has functions for working in domain of **linear algebra**, **fourier transform**, and **matrices**.\n",
        "  4. Numpy code base \"https://github.com/numpy/numpy\"\n",
        "\n",
        "  ***Note***: NumPy was created in 2005 by Travis Olliphant."
      ],
      "metadata": {
        "id": "shwDfbBx8Tb_"
      }
    },
    {
      "cell_type": "markdown",
      "source": [
        "## Why numpy is widely used in ML?\n",
        "  1. Numpy n dimensional arrays are faster, effcient in mathematical and scientific operations.\n",
        "  2. Sophisticated (broadcasting) functions.\n",
        "  3. Tools for integrating C/C++ and Fortran code.\n",
        "  4. Useful linear algebra, Fourier transform, and random number capabilities.\n",
        "\n",
        "## Why numpy is faster?\n",
        "  Two reasons\n",
        "  1. It uses well optimized C-compiled code at the backend\n",
        "  2. General reason is, the array elements are stored in contiguos memory locations(locality of reference) unlike lists.\n",
        "  3. Array requires only one look up into the memory to get the required data where as lists requires two look ups in the memory."
      ],
      "metadata": {
        "id": "1gTeRwFL_ciM"
      }
    },
    {
      "cell_type": "markdown",
      "source": [
        "***Note***: Besides its obvious scientific uses, NumPy in Python can also be used as an efficient multi-dimensional container of generic data. Arbitrary data types can be defined using Numpy which allows NumPy to seamlessly and speedily integrate with a wide variety of databases."
      ],
      "metadata": {
        "id": "wv1iDia-CHCN"
      }
    },
    {
      "cell_type": "markdown",
      "source": [
        "***Note***: numpy library \"https://docs.scipy.org/doc/numpy-1.10.1/reference/index.html\""
      ],
      "metadata": {
        "id": "D_03U5iPKbyP"
      }
    },
    {
      "cell_type": "markdown",
      "source": [
        "Source: geeksforgeeks"
      ],
      "metadata": {
        "id": "xNicyUKSCTOK"
      }
    },
    {
      "cell_type": "markdown",
      "source": [
        "### CREATION OF NUMPY ARRAYS"
      ],
      "metadata": {
        "id": "6CoSOxd_K1ws"
      }
    },
    {
      "cell_type": "code",
      "execution_count": 1,
      "metadata": {
        "id": "ho-Rgitp5-WB",
        "colab": {
          "base_uri": "https://localhost:8080/"
        },
        "outputId": "24be0f74-b3d8-424b-f386-75411cff6506"
      },
      "outputs": [
        {
          "output_type": "stream",
          "name": "stdout",
          "text": [
            "numpy array type is:  <class 'numpy.ndarray'>\n",
            "Rank or number of dimensions of array 2\n",
            "Shape of the numpy array:  (2, 3)\n",
            "Size of the numpy array:  6\n",
            "Datatype of the elements of numpy array:  float64\n"
          ]
        }
      ],
      "source": [
        "#creation of numpy arrays\n",
        "import numpy as np\n",
        "nparray1 = np.array([[1,2,3],\n",
        "                     [4,5,6]], dtype=float)\n",
        "\n",
        "# type of numpy array\n",
        "print(\"numpy array type is: \",type(nparray1))\n",
        "\n",
        "# rank or dimensions of numpy array\n",
        "print(\"Rank or number of dimensions of array\",nparray1.ndim)\n",
        "\n",
        "# Shape of numpy array\n",
        "print(\"Shape of the numpy array: \", nparray1.shape)\n",
        "\n",
        "# size of the numpy array\n",
        "print(\"Size of the numpy array: \", nparray1.size)\n",
        "\n",
        "# datatype of elements of numpy array\n",
        "print(\"Datatype of the elements of numpy array: \",nparray1.dtype)"
      ]
    },
    {
      "cell_type": "markdown",
      "source": [
        "***Note***: You can also use np.ndim(nparray1) in place of nparray1.ndim"
      ],
      "metadata": {
        "id": "_6P5gfyeOVMv"
      }
    },
    {
      "cell_type": "markdown",
      "source": [
        "## ARRAY INDEXING"
      ],
      "metadata": {
        "id": "RCSGzMdjOfjO"
      }
    },
    {
      "cell_type": "markdown",
      "source": [
        "#### Working with 2 dimensional arrays"
      ],
      "metadata": {
        "id": "CSXHgHDMRg5m"
      }
    },
    {
      "cell_type": "code",
      "source": [
        "# if we dont specify dtype in the array creation, then default will be integer datatype\n",
        "# creation of numpy arrays from tuples\n",
        "nparray2 = np.array(((1,2,3),\n",
        "                     (4,5,6),\n",
        "                     (7,8,9)), dtype=int)\n",
        "\n",
        "# print 2nd row 3rd element\n",
        "print(\"Element at 2nd row and 3rd column is: \",nparray2[1,2])\n",
        "\n",
        "# print 1st column\n",
        "print(\"1st column of array is: \",nparray2[:, 0])\n",
        "\n",
        "# print 3rd row\n",
        "print(\"3rd row of array is: \",nparray2[2, :])\n",
        "\n",
        "# print last 2 rows of the array\n",
        "print(\"The last 2 rows of the array are: \", nparray2[1::, :])\n",
        "\n",
        "# print last 2 rows in which each row elements is in reverse order\n",
        "print(\"Last 2 rows each row elements is reversed: \", nparray2[1::, -1::-1])\n",
        "\n",
        "# print the entire array in reverse order\n",
        "print(\"Array reverse order: \", nparray2[-1::-1, -1::-1])"
      ],
      "metadata": {
        "colab": {
          "base_uri": "https://localhost:8080/"
        },
        "id": "pSJ6hIz-MYSr",
        "outputId": "43ba5082-2bd6-4ba8-9667-9f3e6f3f2a38"
      },
      "execution_count": 2,
      "outputs": [
        {
          "output_type": "stream",
          "name": "stdout",
          "text": [
            "Element at 2nd row and 3rd column is:  6\n",
            "1st column of array is:  [1 4 7]\n",
            "3rd row of array is:  [7 8 9]\n",
            "The last 2 rows of the array are:  [[4 5 6]\n",
            " [7 8 9]]\n",
            "Last 2 rows each row elements is reversed:  [[6 5 4]\n",
            " [9 8 7]]\n",
            "Array reverse order:  [[9 8 7]\n",
            " [6 5 4]\n",
            " [3 2 1]]\n"
          ]
        }
      ]
    },
    {
      "cell_type": "markdown",
      "source": [
        "#### Working with 3 dimensional arrays"
      ],
      "metadata": {
        "id": "-R5hcdS_Rn-v"
      }
    },
    {
      "cell_type": "code",
      "source": [
        "# if we dont specify dtype in the array creation, then default will be integer datatype\n",
        "nparray3 = np.array((((1,2,3),(4,5,6),(7,8,9)),\n",
        "                     ((10,11,12),(13,14,15),(16,17,18))))\n",
        "\n",
        "# dimensions of the array\n",
        "print(\"Dimension of the array: \", np.ndim(nparray3))\n",
        "\n",
        "# Shape of the array\n",
        "print(\"Shape of the array: \", np.shape(nparray3))"
      ],
      "metadata": {
        "colab": {
          "base_uri": "https://localhost:8080/"
        },
        "id": "6z4q7SuBNd95",
        "outputId": "a33d302a-3207-4225-fd4d-bbf6214f8882"
      },
      "execution_count": 3,
      "outputs": [
        {
          "output_type": "stream",
          "name": "stdout",
          "text": [
            "Dimension of the array:  3\n",
            "Shape of the array:  (2, 3, 3)\n"
          ]
        }
      ]
    },
    {
      "cell_type": "code",
      "source": [
        "# print 1st 2 dimensional array element\n",
        "print(\"1st 2 dimensional array element: \", nparray3[0, :, :]) # nparray3[1] also yields same results\n",
        "\n",
        "# print 2nd 2 dimensional array in reverse order\n",
        "print(\"2nd 2 dimensional array reverse order: \", nparray3[1, -1::-1, -1::-1])\n",
        "\n",
        "# print last 2 rows of each 2 dimensional arrays\n",
        "print(\"last 2 rows of each 2 dimensional arrays: \", nparray3[:, 1::, :])\n",
        "\n",
        "# print last 2 rows of each 2 dimensional arrays in reverse order\n",
        "print(\"last 2 rows of each 2 dimensional arrays in reverse order: \", nparray3[:, 1::, -1::-1])"
      ],
      "metadata": {
        "colab": {
          "base_uri": "https://localhost:8080/"
        },
        "id": "P2ggR0ZaScsy",
        "outputId": "8b9f754e-d0ac-45af-bd35-75ec71a5510c"
      },
      "execution_count": 4,
      "outputs": [
        {
          "output_type": "stream",
          "name": "stdout",
          "text": [
            "1st 2 dimensional array element:  [[1 2 3]\n",
            " [4 5 6]\n",
            " [7 8 9]]\n",
            "2nd 2 dimensional array reverse order:  [[18 17 16]\n",
            " [15 14 13]\n",
            " [12 11 10]]\n",
            "last 2 rows of each 2 dimensional arrays:  [[[ 4  5  6]\n",
            "  [ 7  8  9]]\n",
            "\n",
            " [[13 14 15]\n",
            "  [16 17 18]]]\n",
            "last 2 rows of each 2 dimensional arrays in reverse order:  [[[ 6  5  4]\n",
            "  [ 9  8  7]]\n",
            "\n",
            " [[15 14 13]\n",
            "  [18 17 16]]]\n"
          ]
        }
      ]
    },
    {
      "cell_type": "markdown",
      "source": [
        "## ARRAYS WITH INTIAL PLACEHOLDERS"
      ],
      "metadata": {
        "id": "3ampXOcBWLpY"
      }
    },
    {
      "cell_type": "code",
      "source": [
        "# creation of array with zeros as intial placeholder\n",
        "npzeors = np.zeros((2,3), dtype=complex)\n",
        "print(\"numpy array with zeros: \",npzeors)\n",
        "\n",
        "# creation of array with identity matrix\n",
        "npeye = np.eye(3)\n",
        "print(\"numpy identity matrix: \",npeye)\n",
        "\n",
        "# print 6 linearly spaced elements between 0 to 1\n",
        "nplinspace = np.linspace(0,1,6)\n",
        "print(\"6 linearly spaced elements between 0 to 1: \", nplinspace)\n",
        "\n",
        "# creation of arrays with intial placeholder as 1\n",
        "npones = np.ones((3,3))\n",
        "print(\"numpy array with ones: \", npones)"
      ],
      "metadata": {
        "colab": {
          "base_uri": "https://localhost:8080/"
        },
        "id": "rl55ia2vTgFX",
        "outputId": "f8d16db7-ec80-4d45-b333-c32a1a3df107"
      },
      "execution_count": 5,
      "outputs": [
        {
          "output_type": "stream",
          "name": "stdout",
          "text": [
            "numpy array with zeros:  [[0.+0.j 0.+0.j 0.+0.j]\n",
            " [0.+0.j 0.+0.j 0.+0.j]]\n",
            "numpy identity matrix:  [[1. 0. 0.]\n",
            " [0. 1. 0.]\n",
            " [0. 0. 1.]]\n",
            "6 linearly spaced elements between 0 to 1:  [0.  0.2 0.4 0.6 0.8 1. ]\n",
            "numpy array with ones:  [[1. 1. 1.]\n",
            " [1. 1. 1.]\n",
            " [1. 1. 1.]]\n"
          ]
        }
      ]
    },
    {
      "cell_type": "markdown",
      "source": [
        "#### Other useful **functions**"
      ],
      "metadata": {
        "id": "nW3DBVNhYy9j"
      }
    },
    {
      "cell_type": "code",
      "source": [
        "# numpy arange function\n",
        "print(\"numpy arange function from 0 to 10 with spaces of 2 in between: \",np.arange(0,10,2))\n",
        "print(\"numpy arange function from 0 to 10 with spaces of 2 in between and applying reshaping after it: \",np.arange(0, 10, 3).reshape((2,2)))\n",
        "print(\"random.randint(10,100,10): \",np.random.randint(10, 100, 10))\n",
        "print(\"6 random elements between 0 and 1: \",np.random.random(6))\n",
        "print(\"3 random elements from the list of [1,2,3,....,9]: \",np.random.choice([1,2,3,4,5,6,7,8,9], 3))"
      ],
      "metadata": {
        "colab": {
          "base_uri": "https://localhost:8080/"
        },
        "id": "LtSqj0tyWy6w",
        "outputId": "8cbf960d-d524-496f-8857-6ee31d3dc926"
      },
      "execution_count": 6,
      "outputs": [
        {
          "output_type": "stream",
          "name": "stdout",
          "text": [
            "numpy arange function from 0 to 10 with spaces of 2 in between:  [0 2 4 6 8]\n",
            "numpy arange function from 0 to 10 with spaces of 2 in between and applying reshaping after it:  [[0 3]\n",
            " [6 9]]\n",
            "random.randint(10,100,10):  [42 18 97 61 48 44 67 23 12 51]\n",
            "6 random elements between 0 and 1:  [0.21908156 0.50759421 0.25403415 0.73918604 0.75808059 0.18249116]\n",
            "3 random elements from the list of [1,2,3,....,9]:  [5 6 2]\n"
          ]
        }
      ]
    },
    {
      "cell_type": "markdown",
      "source": [
        "Note: For other useful functions go to \"https://colab.research.google.com/corgiredirector?site=https%3A%2F%2Fdocs.scipy.org%2Fdoc%2Fnumpy-1.10.1%2Freference%2Findex.html%22\""
      ],
      "metadata": {
        "id": "Y8TvGc3LbDYH"
      }
    },
    {
      "cell_type": "markdown",
      "source": [
        "## ARRAY OPERATIONS"
      ],
      "metadata": {
        "id": "fIKCY3q_bXkl"
      }
    },
    {
      "cell_type": "code",
      "source": [
        "nparray4 = np.array(((1,2,3),\n",
        "                     (4,5,6),\n",
        "                     (7,8,9)), dtype=float)\n",
        "\n",
        "# adding 1 to each element\n",
        "print(nparray4 + 1)\n",
        "\n",
        "# multiply each element with 10\n",
        "print(nparray4 * 10)\n",
        "\n",
        "# Cumulative sum of each row\n",
        "print(np.cumsum(nparray4, axis=1))\n",
        "\n",
        "# Sum of all elements\n",
        "print(np.sum(nparray4))\n",
        "\n",
        "# Sum of each row\n",
        "print(np.sum(nparray4, axis=1))\n",
        "\n",
        "# max element of each column\n",
        "print(np.max(nparray4,axis=0))"
      ],
      "metadata": {
        "colab": {
          "base_uri": "https://localhost:8080/"
        },
        "id": "qIQ1K9cGZErK",
        "outputId": "9c18206e-6254-41a6-ce58-f925cbc0911e"
      },
      "execution_count": 7,
      "outputs": [
        {
          "output_type": "stream",
          "name": "stdout",
          "text": [
            "[[ 2.  3.  4.]\n",
            " [ 5.  6.  7.]\n",
            " [ 8.  9. 10.]]\n",
            "[[10. 20. 30.]\n",
            " [40. 50. 60.]\n",
            " [70. 80. 90.]]\n",
            "[[ 1.  3.  6.]\n",
            " [ 4.  9. 15.]\n",
            " [ 7. 15. 24.]]\n",
            "45.0\n",
            "[ 6. 15. 24.]\n",
            "[7. 8. 9.]\n"
          ]
        }
      ]
    },
    {
      "cell_type": "markdown",
      "source": [
        "#### Other important operations"
      ],
      "metadata": {
        "id": "aRj0rhd3en6Q"
      }
    },
    {
      "cell_type": "code",
      "source": [
        "# Other important operations\n",
        "a = np.array([[1, 2], [3, 4]])\n",
        "b = np.array([[5, 6], [7, 8]])\n",
        "\n",
        "# add arrays\n",
        "print (\"Array sum:\\n\", a + b)\n",
        "\n",
        "# multiply arrays (elementwise multiplication)\n",
        "print (\"Array multiplication:\\n\", a*b)\n",
        "\n",
        "# matrix multiplication\n",
        "print (\"Matrix multiplication:\\n\", a.dot(b))\n"
      ],
      "metadata": {
        "colab": {
          "base_uri": "https://localhost:8080/"
        },
        "id": "anB3eMDDbpmN",
        "outputId": "b4e6beb0-346f-4bb8-b3a8-6e5c04ce2718"
      },
      "execution_count": 8,
      "outputs": [
        {
          "output_type": "stream",
          "name": "stdout",
          "text": [
            "Array sum:\n",
            " [[ 6  8]\n",
            " [10 12]]\n",
            "Array multiplication:\n",
            " [[ 5 12]\n",
            " [21 32]]\n",
            "Matrix multiplication:\n",
            " [[19 22]\n",
            " [43 50]]\n"
          ]
        }
      ]
    },
    {
      "cell_type": "markdown",
      "source": [
        "## NUMPY UNIVERSAL FUNCTIONS(UFUNCS)"
      ],
      "metadata": {
        "id": "bY8EFt9TfcO7"
      }
    },
    {
      "cell_type": "code",
      "source": [
        "print(\"exp(a): \",np.exp(a))\n",
        "print(\"sine(a): \",np.sin(a))\n",
        "print(\"log(a): \",np.log(a))"
      ],
      "metadata": {
        "colab": {
          "base_uri": "https://localhost:8080/"
        },
        "id": "T53oI1CMeRs4",
        "outputId": "63d99984-c71d-435e-bf6b-bab0d2711215"
      },
      "execution_count": 9,
      "outputs": [
        {
          "output_type": "stream",
          "name": "stdout",
          "text": [
            "exp(a):  [[ 2.71828183  7.3890561 ]\n",
            " [20.08553692 54.59815003]]\n",
            "sine(a):  [[ 0.84147098  0.90929743]\n",
            " [ 0.14112001 -0.7568025 ]]\n",
            "log(a):  [[0.         0.69314718]\n",
            " [1.09861229 1.38629436]]\n"
          ]
        }
      ]
    },
    {
      "cell_type": "markdown",
      "source": [
        "***Note***: Refer \"https://docs.scipy.org/doc/numpy-1.10.1/reference/ufuncs.html#ufunc\" for other ufuncs"
      ],
      "metadata": {
        "id": "s1UW8sPLfy_9"
      }
    },
    {
      "cell_type": "markdown",
      "source": [
        "## ARRAYS SORTING"
      ],
      "metadata": {
        "id": "NEwJj07ygEOE"
      }
    },
    {
      "cell_type": "code",
      "source": [
        "# source: geeks for geeks\n",
        "sort_a = np.array([[1, 4, 2],\n",
        "\t\t\t\t           [3, 4, 6],\n",
        "\t\t\t             [0, -1, 5]])\n",
        "\n",
        "# sorted array\n",
        "print (\"Array elements in sorted order:\\n\",\n",
        "\t\t\t\t\tnp.sort(sort_a, axis = None))\n",
        "\n",
        "# sort array row-wise\n",
        "print (\"Row-wise sorted array:\\n\",\n",
        "\t\t\t\tnp.sort(sort_a, axis = 1))\n",
        "\n",
        "# specify sort algorithm\n",
        "print (\"Column wise sort by applying merge-sort:\\n\",\n",
        "\t\t\tnp.sort(sort_a, axis = 0, kind = 'mergesort'))\n",
        "\n",
        "# Example to show sorting of structured array\n",
        "# set alias names for dtypes\n",
        "dtypes = [('name', 'S10'), ('grad_year', int), ('cgpa', float)]\n",
        "\n",
        "# Values to be put in array\n",
        "values = [('Hrithik', 2009, 8.5), ('Ajay', 2008, 8.7),\n",
        "\t\t('Pankaj', 2008, 7.9), ('Aakash', 2009, 9.0)]\n",
        "\n",
        "# Creating array\n",
        "sort_a1 = np.array(values, dtype = dtypes)\n",
        "print (\"\\nArray sorted by names:\\n\",\n",
        "\t\t\tnp.sort(sort_a1, order = 'name'))\n",
        "\n",
        "print (\"Array sorted by graduation year and then cgpa:\\n\",\n",
        "\t\t\t\tnp.sort(sort_a1, order = ['grad_year', 'cgpa']))\n"
      ],
      "metadata": {
        "colab": {
          "base_uri": "https://localhost:8080/"
        },
        "id": "nax6XN7sfmks",
        "outputId": "29c07b6e-5208-4b93-c6e6-193edf50e176"
      },
      "execution_count": 10,
      "outputs": [
        {
          "output_type": "stream",
          "name": "stdout",
          "text": [
            "Array elements in sorted order:\n",
            " [-1  0  1  2  3  4  4  5  6]\n",
            "Row-wise sorted array:\n",
            " [[ 1  2  4]\n",
            " [ 3  4  6]\n",
            " [-1  0  5]]\n",
            "Column wise sort by applying merge-sort:\n",
            " [[ 0 -1  2]\n",
            " [ 1  4  5]\n",
            " [ 3  4  6]]\n",
            "\n",
            "Array sorted by names:\n",
            " [(b'Aakash', 2009, 9. ) (b'Ajay', 2008, 8.7) (b'Hrithik', 2009, 8.5)\n",
            " (b'Pankaj', 2008, 7.9)]\n",
            "Array sorted by graduation year and then cgpa:\n",
            " [(b'Pankaj', 2008, 7.9) (b'Ajay', 2008, 8.7) (b'Hrithik', 2009, 8.5)\n",
            " (b'Aakash', 2009, 9. )]\n"
          ]
        }
      ]
    },
    {
      "cell_type": "code",
      "source": [],
      "metadata": {
        "id": "j4tuqF3EgMre"
      },
      "execution_count": 10,
      "outputs": []
    }
  ]
}
