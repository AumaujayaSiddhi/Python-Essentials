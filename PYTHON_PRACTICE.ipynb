{
  "nbformat": 4,
  "nbformat_minor": 0,
  "metadata": {
    "colab": {
      "provenance": []
    },
    "kernelspec": {
      "name": "python3",
      "display_name": "Python 3"
    },
    "language_info": {
      "name": "python"
    }
  },
  "cells": [
    {
      "cell_type": "markdown",
      "source": [
        "#### 1. Take any problem of your choice and solve it using object oriented python programming. Doing this king of excercise will enhance your understanding of python.\n",
        "#### 2. I even suggest take any of the data structures like Queue or Stack and code them in python to improve coding skills in python.\n",
        "#### 3. For Instance, I took simple example of multiplication and implemented it using object oriented programming. This way I got some handon in python."
      ],
      "metadata": {
        "id": "g_68BUzuxjTY"
      }
    },
    {
      "cell_type": "code",
      "execution_count": 1,
      "metadata": {
        "id": "BfxVTB4HlzB4"
      },
      "outputs": [],
      "source": [
        "class Mul_Table :\n",
        "  '''\n",
        "  This class contains functions to print multiplication table\n",
        "  and to print multiplication of given numbers\n",
        "  '''\n",
        "  def __init__(self):\n",
        "    self.start = 1\n",
        "    self.end = 10\n",
        "\n",
        "  def printMulTable(self):\n",
        "    '''\n",
        "    Prints multiplication table of a\n",
        "    given number starting from 1 to 10\n",
        "    '''\n",
        "    multiplicand = input(\"Enter multiplicand : \")\n",
        "\n",
        "    if multiplicand.isnumeric():\n",
        "      multiplicand = int(multiplicand)\n",
        "\n",
        "    print(\"The multiplication table for the number \", multiplicand, \"is : \")\n",
        "    for i in range(self.start, self.end+1, 1):\n",
        "      print(\"{multiplicand} X {multiplier} = {result}\".format(multiplicand = multiplicand, multiplier = i, result = multiplicand * i))\n",
        "\n",
        "  def printResultOfMultiplicandXMultiplier(self, multiplicand = 10, multiplier = 10):\n",
        "    '''\n",
        "    This function prints result of multiplicand\n",
        "    multiplied by multiplier\n",
        "    '''\n",
        "\n",
        "    print(\"The result of given multiplication is : \")\n",
        "    print(\"{multiplicand} X {multiplier} = {result}\".format(multiplicand = multiplicand, multiplier = multiplier, result = multiplicand * multiplier))\n",
        "\n",
        "  def printMultiplicationOfGivenNumbers(self,*args):\n",
        "    '''\n",
        "    This function performs multiplication of given numbers\n",
        "    either in the form of integers or strings(valid numberic)\n",
        "    '''\n",
        "    # as of now string containing floating point number doesnot support to multiply\n",
        "    # get back to this while learning regular expression\n",
        "    result = 1\n",
        "    resultStr = \"\"\n",
        "    for asc in args:\n",
        "      if isinstance(asc, str):\n",
        "        if asc.isnumeric():\n",
        "          asc = float(asc)\n",
        "        else:\n",
        "          print(\"One of the given numbers is not a number\")\n",
        "          return\n",
        "      resultStr = resultStr + str(asc) + \" X \"\n",
        "      result = result * asc\n",
        "    print(\"The multiplication of a given numbers are : \")\n",
        "    print(\"{resultString} = {final}\".format(resultString = resultStr[0:len(resultStr)-3], final = result))"
      ]
    },
    {
      "cell_type": "code",
      "source": [
        "x = Mul_Table()"
      ],
      "metadata": {
        "id": "nLSovxgkmg1F"
      },
      "execution_count": 2,
      "outputs": []
    },
    {
      "cell_type": "code",
      "source": [
        "x.printMultiplicationOfGivenNumbers(10,20,\"30\",\"24\")"
      ],
      "metadata": {
        "colab": {
          "base_uri": "https://localhost:8080/"
        },
        "id": "ixhCbGQOxbNf",
        "outputId": "d0e9e292-4073-421f-89ab-38504cd60e41"
      },
      "execution_count": 3,
      "outputs": [
        {
          "output_type": "stream",
          "name": "stdout",
          "text": [
            "The multiplication of a given numbers are : \n",
            "10 X 20 X 30.0 X 24.0 = 144000.0\n"
          ]
        }
      ]
    },
    {
      "cell_type": "code",
      "source": [
        "x.printMulTable()"
      ],
      "metadata": {
        "colab": {
          "base_uri": "https://localhost:8080/"
        },
        "id": "AGJA3sSgpStV",
        "outputId": "b3f5b7aa-9fe2-41e3-93a6-6ba800f19e1c"
      },
      "execution_count": 4,
      "outputs": [
        {
          "output_type": "stream",
          "name": "stdout",
          "text": [
            "Enter multiplicand : 15\n",
            "The multiplication table for the number  15 is : \n",
            "15 X 1 = 15\n",
            "15 X 2 = 30\n",
            "15 X 3 = 45\n",
            "15 X 4 = 60\n",
            "15 X 5 = 75\n",
            "15 X 6 = 90\n",
            "15 X 7 = 105\n",
            "15 X 8 = 120\n",
            "15 X 9 = 135\n",
            "15 X 10 = 150\n"
          ]
        }
      ]
    },
    {
      "cell_type": "code",
      "source": [
        "x.printResultOfMultiplicandXMultiplier(multiplicand=23, multiplier=28)"
      ],
      "metadata": {
        "colab": {
          "base_uri": "https://localhost:8080/"
        },
        "id": "XWJpstSJqF0Y",
        "outputId": "e111e448-6bac-45f3-c7d6-32c0874ae589"
      },
      "execution_count": 5,
      "outputs": [
        {
          "output_type": "stream",
          "name": "stdout",
          "text": [
            "The result of given multiplication is : \n",
            "23 X 28 = 644\n"
          ]
        }
      ]
    },
    {
      "cell_type": "code",
      "source": [],
      "metadata": {
        "id": "flhG6R7zxChJ"
      },
      "execution_count": null,
      "outputs": []
    }
  ]
}